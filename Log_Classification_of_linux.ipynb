{
  "metadata": {
    "kernelspec": {
      "name": "python3",
      "display_name": "Python 3",
      "language": "python"
    },
    "language_info": {
      "name": "python",
      "version": "3.11.13",
      "mimetype": "text/x-python",
      "codemirror_mode": {
        "name": "ipython",
        "version": 3
      },
      "pygments_lexer": "ipython3",
      "nbconvert_exporter": "python",
      "file_extension": ".py"
    },
    "kaggle": {
      "accelerator": "none",
      "dataSources": [
        {
          "sourceId": 5044039,
          "sourceType": "datasetVersion",
          "datasetId": 2928110
        }
      ],
      "dockerImageVersionId": 31153,
      "isInternetEnabled": true,
      "language": "python",
      "sourceType": "notebook",
      "isGpuEnabled": false
    },
    "colab": {
      "provenance": [],
      "name": "Log Classification of linux",
      "include_colab_link": true
    }
  },
  "nbformat_minor": 0,
  "nbformat": 4,
  "cells": [
    {
      "cell_type": "markdown",
      "metadata": {
        "id": "view-in-github",
        "colab_type": "text"
      },
      "source": [
        "<a href=\"https://colab.research.google.com/github/MudassirABBASSi/Linux-Log-Classifications-in-NLP-/blob/main/Log_Classification_of_linux.ipynb\" target=\"_parent\"><img src=\"https://colab.research.google.com/assets/colab-badge.svg\" alt=\"Open In Colab\"/></a>"
      ]
    },
    {
      "cell_type": "markdown",
      "source": [
        "# import Libraries"
      ],
      "metadata": {
        "id": "UfiyXkJ-jLjC"
      }
    },
    {
      "cell_type": "code",
      "source": [
        "import pandas as pd"
      ],
      "metadata": {
        "trusted": true,
        "execution": {
          "iopub.status.busy": "2025-10-26T20:10:43.966095Z",
          "iopub.execute_input": "2025-10-26T20:10:43.966577Z",
          "iopub.status.idle": "2025-10-26T20:10:43.972972Z",
          "shell.execute_reply.started": "2025-10-26T20:10:43.966543Z",
          "shell.execute_reply": "2025-10-26T20:10:43.971637Z"
        },
        "id": "iV9VRLT5jLjH"
      },
      "outputs": [],
      "execution_count": null
    },
    {
      "cell_type": "markdown",
      "source": [
        "# Load the Dataset"
      ],
      "metadata": {
        "id": "H2XjhFgqjLjJ"
      }
    },
    {
      "cell_type": "code",
      "source": [
        "# !unzip \"/content/archive.zip\""
      ],
      "metadata": {
        "id": "FNxzucq6nFAm",
        "trusted": true,
        "execution": {
          "iopub.status.busy": "2025-10-26T20:10:43.974823Z",
          "iopub.execute_input": "2025-10-26T20:10:43.975098Z",
          "iopub.status.idle": "2025-10-26T20:10:43.998507Z",
          "shell.execute_reply.started": "2025-10-26T20:10:43.975082Z",
          "shell.execute_reply": "2025-10-26T20:10:43.997567Z"
        }
      },
      "outputs": [],
      "execution_count": null
    },
    {
      "cell_type": "code",
      "source": [
        "data = pd.read_csv(\"/kaggle/input/linux-logs/Linux_2k.log_structured.csv\")\n",
        "\n",
        "data"
      ],
      "metadata": {
        "trusted": true,
        "execution": {
          "iopub.status.busy": "2025-10-26T20:10:43.999533Z",
          "iopub.execute_input": "2025-10-26T20:10:43.999772Z",
          "iopub.status.idle": "2025-10-26T20:10:44.089751Z",
          "shell.execute_reply.started": "2025-10-26T20:10:43.999752Z",
          "shell.execute_reply": "2025-10-26T20:10:44.088724Z"
        },
        "id": "wh3f0frGjLjL"
      },
      "outputs": [],
      "execution_count": null
    },
    {
      "cell_type": "code",
      "source": [
        "data.EventId.unique()"
      ],
      "metadata": {
        "trusted": true,
        "id": "YDqvpJ8ajLjM",
        "execution": {
          "iopub.status.busy": "2025-10-26T20:10:44.091754Z",
          "iopub.execute_input": "2025-10-26T20:10:44.092047Z",
          "iopub.status.idle": "2025-10-26T20:10:44.105141Z",
          "shell.execute_reply.started": "2025-10-26T20:10:44.092026Z",
          "shell.execute_reply": "2025-10-26T20:10:44.104329Z"
        }
      },
      "outputs": [],
      "execution_count": null
    },
    {
      "cell_type": "code",
      "source": [
        "# data.Content.unique()\n",
        "data.Content.head()\n"
      ],
      "metadata": {
        "trusted": true,
        "execution": {
          "iopub.status.busy": "2025-10-26T20:10:44.106079Z",
          "iopub.execute_input": "2025-10-26T20:10:44.106343Z",
          "iopub.status.idle": "2025-10-26T20:10:44.123269Z",
          "shell.execute_reply.started": "2025-10-26T20:10:44.106319Z",
          "shell.execute_reply": "2025-10-26T20:10:44.122603Z"
        },
        "id": "bBTIdlQhjLjZ"
      },
      "outputs": [],
      "execution_count": null
    },
    {
      "cell_type": "code",
      "source": [
        "data['Content'].shape"
      ],
      "metadata": {
        "trusted": true,
        "execution": {
          "iopub.status.busy": "2025-10-26T20:10:44.124005Z",
          "iopub.execute_input": "2025-10-26T20:10:44.124214Z",
          "iopub.status.idle": "2025-10-26T20:10:44.143246Z",
          "shell.execute_reply.started": "2025-10-26T20:10:44.124194Z",
          "shell.execute_reply": "2025-10-26T20:10:44.142435Z"
        },
        "id": "bpTfaSM_jLja"
      },
      "outputs": [],
      "execution_count": null
    },
    {
      "cell_type": "code",
      "source": [
        "data.EventId.unique()"
      ],
      "metadata": {
        "trusted": true,
        "execution": {
          "iopub.status.busy": "2025-10-26T20:10:44.144164Z",
          "iopub.execute_input": "2025-10-26T20:10:44.144351Z",
          "iopub.status.idle": "2025-10-26T20:10:44.162897Z",
          "shell.execute_reply.started": "2025-10-26T20:10:44.144337Z",
          "shell.execute_reply": "2025-10-26T20:10:44.161998Z"
        },
        "id": "W2rbXobwjLjb"
      },
      "outputs": [],
      "execution_count": null
    },
    {
      "cell_type": "code",
      "source": [
        "print(data['EventId'].value_counts())"
      ],
      "metadata": {
        "trusted": true,
        "execution": {
          "iopub.status.busy": "2025-10-26T20:10:44.16425Z",
          "iopub.execute_input": "2025-10-26T20:10:44.164617Z",
          "iopub.status.idle": "2025-10-26T20:10:44.184218Z",
          "shell.execute_reply.started": "2025-10-26T20:10:44.164575Z",
          "shell.execute_reply": "2025-10-26T20:10:44.182703Z"
        },
        "id": "eBoiJd-7jLjc"
      },
      "outputs": [],
      "execution_count": null
    },
    {
      "cell_type": "markdown",
      "source": [
        "# Text Cleaning & Preprocessing"
      ],
      "metadata": {
        "id": "cybxIMgAjLjd"
      }
    },
    {
      "cell_type": "code",
      "source": [
        "import re\n",
        "\n",
        "def clean_text(text):\n",
        "    text = str(text).lower()\n",
        "    text = re.sub(r'[^a-zA-Z0-9\\s]', '', text)  # remove special chars\n",
        "    text = re.sub(r'\\s+', ' ', text).strip()\n",
        "    return text\n",
        "\n",
        "data[\"clean_content\"] = data[\"Content\"].apply(clean_text)"
      ],
      "metadata": {
        "trusted": true,
        "execution": {
          "iopub.status.busy": "2025-10-26T20:10:44.186217Z",
          "iopub.execute_input": "2025-10-26T20:10:44.186622Z",
          "iopub.status.idle": "2025-10-26T20:10:44.214071Z",
          "shell.execute_reply.started": "2025-10-26T20:10:44.186594Z",
          "shell.execute_reply": "2025-10-26T20:10:44.213314Z"
        },
        "id": "VEgA9zaBjLjd"
      },
      "outputs": [],
      "execution_count": null
    },
    {
      "cell_type": "code",
      "source": [
        "data[\"clean_content\"]"
      ],
      "metadata": {
        "trusted": true,
        "execution": {
          "iopub.status.busy": "2025-10-26T20:10:44.216224Z",
          "iopub.execute_input": "2025-10-26T20:10:44.216457Z",
          "iopub.status.idle": "2025-10-26T20:10:44.23911Z",
          "shell.execute_reply.started": "2025-10-26T20:10:44.216441Z",
          "shell.execute_reply": "2025-10-26T20:10:44.237737Z"
        },
        "id": "2yZ0O9WdjLje"
      },
      "outputs": [],
      "execution_count": null
    },
    {
      "cell_type": "code",
      "source": [
        "X = data[\"Content\"]\n",
        "y = data[\"EventId\"]"
      ],
      "metadata": {
        "trusted": true,
        "execution": {
          "iopub.status.busy": "2025-10-26T20:10:44.240239Z",
          "iopub.execute_input": "2025-10-26T20:10:44.240547Z",
          "iopub.status.idle": "2025-10-26T20:10:44.259953Z",
          "shell.execute_reply.started": "2025-10-26T20:10:44.240518Z",
          "shell.execute_reply": "2025-10-26T20:10:44.258904Z"
        },
        "id": "P3aTisNsjLje"
      },
      "outputs": [],
      "execution_count": null
    },
    {
      "cell_type": "markdown",
      "source": [
        "# Text Vectorization\n",
        "1. Option A: TF-IDF (simple and effective)\n",
        "2. Option B: Use pre-trained models like FastText, Word2Vec, or BERT for deeper semantics."
      ],
      "metadata": {
        "id": "xGkyvdObjLjf"
      }
    },
    {
      "cell_type": "code",
      "source": [
        "from sklearn.feature_extraction.text import TfidfVectorizer\n",
        "\n",
        "vectorizer = TfidfVectorizer(max_features=5000, ngram_range=(1,2))\n",
        "X_vec = vectorizer.fit_transform(data[\"clean_content\"])\n"
      ],
      "metadata": {
        "trusted": true,
        "execution": {
          "iopub.status.busy": "2025-10-26T20:10:44.261697Z",
          "iopub.execute_input": "2025-10-26T20:10:44.262572Z",
          "iopub.status.idle": "2025-10-26T20:10:44.973287Z",
          "shell.execute_reply.started": "2025-10-26T20:10:44.262529Z",
          "shell.execute_reply": "2025-10-26T20:10:44.972365Z"
        },
        "id": "nBL6yioAjLjf"
      },
      "outputs": [],
      "execution_count": null
    },
    {
      "cell_type": "code",
      "source": [
        "X_vec[:2]"
      ],
      "metadata": {
        "trusted": true,
        "execution": {
          "iopub.status.busy": "2025-10-26T20:10:44.974251Z",
          "iopub.execute_input": "2025-10-26T20:10:44.974765Z",
          "iopub.status.idle": "2025-10-26T20:10:44.982751Z",
          "shell.execute_reply.started": "2025-10-26T20:10:44.974736Z",
          "shell.execute_reply": "2025-10-26T20:10:44.981028Z"
        },
        "id": "yz8hBFbIjLjf"
      },
      "outputs": [],
      "execution_count": null
    },
    {
      "cell_type": "markdown",
      "source": [
        "# Encode Target Labels"
      ],
      "metadata": {
        "id": "ynrfUf1ajLjg"
      }
    },
    {
      "cell_type": "code",
      "source": [
        "from sklearn.preprocessing import LabelEncoder\n",
        "\n",
        "le = LabelEncoder()\n",
        "\n",
        "y_enc = le.fit_transform(y)\n",
        "y_enc"
      ],
      "metadata": {
        "trusted": true,
        "execution": {
          "iopub.status.busy": "2025-10-26T20:10:44.984526Z",
          "iopub.execute_input": "2025-10-26T20:10:44.984899Z",
          "iopub.status.idle": "2025-10-26T20:10:45.007809Z",
          "shell.execute_reply.started": "2025-10-26T20:10:44.984879Z",
          "shell.execute_reply": "2025-10-26T20:10:45.00596Z"
        },
        "id": "LpmwTQaHjLjg"
      },
      "outputs": [],
      "execution_count": null
    },
    {
      "cell_type": "markdown",
      "source": [
        "# Train Test Split"
      ],
      "metadata": {
        "id": "ow8EKavCjLji"
      }
    },
    {
      "cell_type": "code",
      "source": [
        "from sklearn.model_selection import train_test_split\n",
        "\n",
        "X_train, X_test, y_train, y_test = train_test_split(X_vec, y_enc, test_size=0.2, random_state=42)\n"
      ],
      "metadata": {
        "trusted": true,
        "execution": {
          "iopub.status.busy": "2025-10-26T20:10:45.009444Z",
          "iopub.execute_input": "2025-10-26T20:10:45.010361Z",
          "iopub.status.idle": "2025-10-26T20:10:45.186827Z",
          "shell.execute_reply.started": "2025-10-26T20:10:45.010333Z",
          "shell.execute_reply": "2025-10-26T20:10:45.18498Z"
        },
        "id": "3EBf26C6jLjj"
      },
      "outputs": [],
      "execution_count": null
    },
    {
      "cell_type": "code",
      "source": [
        "from sklearn.linear_model import LogisticRegression\n",
        "from sklearn.metrics import classification_report, accuracy_score\n",
        "\n",
        "model = LogisticRegression(max_iter=200)\n",
        "model.fit(X_train, y_train)\n",
        "\n",
        "y_pred = model.predict(X_test)\n",
        "print(classification_report(y_test, y_pred))\n"
      ],
      "metadata": {
        "trusted": true,
        "execution": {
          "iopub.status.busy": "2025-10-26T20:10:45.18882Z",
          "iopub.execute_input": "2025-10-26T20:10:45.189309Z",
          "iopub.status.idle": "2025-10-26T20:10:46.868334Z",
          "shell.execute_reply.started": "2025-10-26T20:10:45.189277Z",
          "shell.execute_reply": "2025-10-26T20:10:46.867823Z"
        },
        "id": "7fR-up0tjLjn"
      },
      "outputs": [],
      "execution_count": null
    },
    {
      "cell_type": "code",
      "source": [
        "from sklearn.ensemble import RandomForestClassifier\n",
        "model1 = RandomForestClassifier()\n",
        "\n",
        "model1.fit(X_train, y_train)\n",
        "\n",
        "y_pred = model1.predict(X_test)\n",
        "print(classification_report(y_test, y_pred))"
      ],
      "metadata": {
        "trusted": true,
        "id": "UgUsvrCjjLjo",
        "execution": {
          "iopub.status.busy": "2025-10-26T20:10:46.86911Z",
          "iopub.execute_input": "2025-10-26T20:10:46.869627Z",
          "iopub.status.idle": "2025-10-26T20:10:47.533428Z",
          "shell.execute_reply.started": "2025-10-26T20:10:46.869611Z",
          "shell.execute_reply": "2025-10-26T20:10:47.532199Z"
        }
      },
      "outputs": [],
      "execution_count": null
    },
    {
      "cell_type": "code",
      "source": [
        "# Assuming 'model' is your trained model (e.g., LogisticRegression or RandomForestClassifier)\n",
        "# Assuming 'vectorizer' is your trained TfidfVectorizer\n",
        "# Assuming 'le' is your trained LabelEncoder\n",
        "# Assuming 'clean_text' is your text cleaning function\n",
        "\n",
        "def predict_event_id(text, model, vectorizer, label_encoder, clean_text_func):\n",
        "    # Clean the input text\n",
        "    cleaned_text = clean_text_func(text)\n",
        "\n",
        "    # Vectorize the cleaned text\n",
        "    # Use transform, not fit_transform, as the vectorizer is already trained\n",
        "    text_vec = vectorizer.transform([cleaned_text])\n",
        "\n",
        "    # Predict the encoded event ID\n",
        "    predicted_encoded_id = model.predict(text_vec)\n",
        "\n",
        "    # Inverse transform the encoded ID to the original EventId\n",
        "    predicted_event_id = label_encoder.inverse_transform(predicted_encoded_id)\n",
        "\n",
        "    return predicted_event_id[0]\n",
        "\n",
        "# Example usage:\n",
        "new_log_text = \"ACPI: Subsystem revision <*>\"\n",
        "predicted_id = predict_event_id(new_log_text, model1, vectorizer, le, clean_text) # Using model1 (RandomForestClassifier)\n",
        "\n",
        "print(f\"The predicted EventId for the log '{new_log_text}' is: {predicted_id}\")"
      ],
      "metadata": {
        "id": "8mtXVLh7o_FD",
        "trusted": true,
        "execution": {
          "iopub.status.busy": "2025-10-26T20:10:47.534683Z",
          "iopub.execute_input": "2025-10-26T20:10:47.534956Z",
          "iopub.status.idle": "2025-10-26T20:10:47.553827Z",
          "shell.execute_reply.started": "2025-10-26T20:10:47.534934Z",
          "shell.execute_reply": "2025-10-26T20:10:47.553002Z"
        }
      },
      "outputs": [],
      "execution_count": null
    },
    {
      "cell_type": "code",
      "source": [],
      "metadata": {
        "id": "y12r98MIp97U",
        "trusted": true
      },
      "outputs": [],
      "execution_count": null
    }
  ]
}