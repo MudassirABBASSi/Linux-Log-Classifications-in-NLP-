{
  "metadata": {
    "kernelspec": {
      "language": "python",
      "display_name": "Python 3",
      "name": "python3"
    },
    "language_info": {
      "name": "python",
      "version": "3.11.13",
      "mimetype": "text/x-python",
      "codemirror_mode": {
        "name": "ipython",
        "version": 3
      },
      "pygments_lexer": "ipython3",
      "nbconvert_exporter": "python",
      "file_extension": ".py"
    },
    "kaggle": {
      "accelerator": "gpu",
      "dataSources": [
        {
          "sourceId": 5044039,
          "sourceType": "datasetVersion",
          "datasetId": 2928110
        }
      ],
      "dockerImageVersionId": 31154,
      "isInternetEnabled": true,
      "language": "python",
      "sourceType": "notebook",
      "isGpuEnabled": true
    },
    "colab": {
      "name": "Linux Log Event type prediction",
      "provenance": [],
      "include_colab_link": true
    }
  },
  "nbformat_minor": 0,
  "nbformat": 4,
  "cells": [
    {
      "cell_type": "markdown",
      "metadata": {
        "id": "view-in-github",
        "colab_type": "text"
      },
      "source": [
        "<a href=\"https://colab.research.google.com/github/MudassirABBASSi/Linux-Log-Classifications-in-NLP-/blob/main/Linux_Log_Event_type_prediction.ipynb\" target=\"_parent\"><img src=\"https://colab.research.google.com/assets/colab-badge.svg\" alt=\"Open In Colab\"/></a>"
      ]
    },
    {
      "cell_type": "markdown",
      "source": [
        "# Step 1: Import libraries"
      ],
      "metadata": {
        "id": "-jjHiIBrU6F0"
      }
    },
    {
      "cell_type": "code",
      "source": [
        "\n",
        "import pandas as pd\n",
        "from sklearn.model_selection import train_test_split\n",
        "from sklearn.feature_extraction.text import TfidfVectorizer\n",
        "from sklearn.linear_model import LogisticRegression\n",
        "from sklearn.metrics import classification_report"
      ],
      "metadata": {
        "trusted": true,
        "execution": {
          "iopub.status.busy": "2025-10-26T20:58:30.104648Z",
          "iopub.execute_input": "2025-10-26T20:58:30.105184Z",
          "iopub.status.idle": "2025-10-26T20:58:30.108845Z",
          "shell.execute_reply.started": "2025-10-26T20:58:30.105159Z",
          "shell.execute_reply": "2025-10-26T20:58:30.108201Z"
        },
        "id": "N7z-S_djU6F2"
      },
      "outputs": [],
      "execution_count": null
    },
    {
      "cell_type": "markdown",
      "source": [
        "# Step 2: Load dataset"
      ],
      "metadata": {
        "id": "sEgykSmzU6F3"
      }
    },
    {
      "cell_type": "code",
      "source": [
        "data = pd.read_csv(\"/kaggle/input/linux-logs/Linux_2k.log_structured.csv\")\n",
        "data.shape"
      ],
      "metadata": {
        "trusted": true,
        "execution": {
          "iopub.status.busy": "2025-10-26T20:59:22.34245Z",
          "iopub.execute_input": "2025-10-26T20:59:22.342713Z",
          "iopub.status.idle": "2025-10-26T20:59:22.35506Z",
          "shell.execute_reply.started": "2025-10-26T20:59:22.342693Z",
          "shell.execute_reply": "2025-10-26T20:59:22.354462Z"
        },
        "id": "UNRpqSnpU6F4"
      },
      "outputs": [],
      "execution_count": null
    },
    {
      "cell_type": "code",
      "source": [
        "data.shape"
      ],
      "metadata": {
        "trusted": true,
        "id": "qLnRqMehU6F4"
      },
      "outputs": [],
      "execution_count": null
    },
    {
      "cell_type": "code",
      "source": [
        "data.sample()"
      ],
      "metadata": {
        "trusted": true,
        "execution": {
          "iopub.status.busy": "2025-10-26T20:59:42.971694Z",
          "iopub.execute_input": "2025-10-26T20:59:42.972384Z",
          "iopub.status.idle": "2025-10-26T20:59:42.981896Z",
          "shell.execute_reply.started": "2025-10-26T20:59:42.972359Z",
          "shell.execute_reply": "2025-10-26T20:59:42.981197Z"
        },
        "id": "XWgSXeXaU6F5"
      },
      "outputs": [],
      "execution_count": null
    },
    {
      "cell_type": "markdown",
      "source": [
        "# Step 3: Prepare features and labels"
      ],
      "metadata": {
        "id": "1cutQiuMU6F8"
      }
    },
    {
      "cell_type": "code",
      "source": [
        "data['Content'] = data['Content'].astype(str)\n",
        "X = data['Content']\n",
        "y = data['EventId']  # The event type we want to predict"
      ],
      "metadata": {
        "trusted": true,
        "execution": {
          "iopub.status.busy": "2025-10-26T20:58:30.136444Z",
          "iopub.execute_input": "2025-10-26T20:58:30.136764Z",
          "iopub.status.idle": "2025-10-26T20:58:30.141101Z",
          "shell.execute_reply.started": "2025-10-26T20:58:30.136745Z",
          "shell.execute_reply": "2025-10-26T20:58:30.140371Z"
        },
        "id": "H-rxL7y5U6F9"
      },
      "outputs": [],
      "execution_count": null
    },
    {
      "cell_type": "markdown",
      "source": [
        "# Step 4: Split into train/test sets"
      ],
      "metadata": {
        "id": "AhFQzs-BU6F-"
      }
    },
    {
      "cell_type": "code",
      "source": [
        "\n",
        "X_train, X_test, y_train, y_test = train_test_split(X, y, test_size=0.2, random_state=42)"
      ],
      "metadata": {
        "trusted": true,
        "execution": {
          "iopub.status.busy": "2025-10-26T20:58:30.141838Z",
          "iopub.execute_input": "2025-10-26T20:58:30.142068Z",
          "iopub.status.idle": "2025-10-26T20:58:30.157297Z",
          "shell.execute_reply.started": "2025-10-26T20:58:30.142048Z",
          "shell.execute_reply": "2025-10-26T20:58:30.156595Z"
        },
        "id": "ucqdYYiPU6F_"
      },
      "outputs": [],
      "execution_count": null
    },
    {
      "cell_type": "markdown",
      "source": [
        "# Step 5: Convert text to numerical features (TF-IDF)"
      ],
      "metadata": {
        "id": "e8IzXK2JU6F_"
      }
    },
    {
      "cell_type": "code",
      "source": [
        "\n",
        "vectorizer = TfidfVectorizer(max_features=5000, stop_words='english')\n",
        "X_train_vec = vectorizer.fit_transform(X_train)\n",
        "X_test_vec = vectorizer.transform(X_test)"
      ],
      "metadata": {
        "trusted": true,
        "execution": {
          "iopub.status.busy": "2025-10-26T20:58:30.158884Z",
          "iopub.execute_input": "2025-10-26T20:58:30.159101Z",
          "iopub.status.idle": "2025-10-26T20:58:30.192626Z",
          "shell.execute_reply.started": "2025-10-26T20:58:30.159087Z",
          "shell.execute_reply": "2025-10-26T20:58:30.191837Z"
        },
        "id": "aF06gT5JU6GA"
      },
      "outputs": [],
      "execution_count": null
    },
    {
      "cell_type": "markdown",
      "source": [
        "# Step 6: Train a classifier"
      ],
      "metadata": {
        "id": "-hlqz4mJU6GB"
      }
    },
    {
      "cell_type": "code",
      "source": [
        "\n",
        "model = LogisticRegression(max_iter=1000)\n",
        "model.fit(X_train_vec, y_train)"
      ],
      "metadata": {
        "trusted": true,
        "execution": {
          "iopub.status.busy": "2025-10-26T20:58:30.193486Z",
          "iopub.execute_input": "2025-10-26T20:58:30.193856Z",
          "iopub.status.idle": "2025-10-26T20:58:31.998186Z",
          "shell.execute_reply.started": "2025-10-26T20:58:30.193833Z",
          "shell.execute_reply": "2025-10-26T20:58:31.99441Z"
        },
        "id": "j3YMW3drU6GC"
      },
      "outputs": [],
      "execution_count": null
    },
    {
      "cell_type": "markdown",
      "source": [
        "# Step 7: Evaluate model\n"
      ],
      "metadata": {
        "id": "S6An9_sPU6GD"
      }
    },
    {
      "cell_type": "code",
      "source": [
        "y_pred = model.predict(X_test_vec)\n",
        "print(classification_report(y_test, y_pred))"
      ],
      "metadata": {
        "trusted": true,
        "execution": {
          "iopub.status.busy": "2025-10-26T20:58:31.99875Z",
          "iopub.execute_input": "2025-10-26T20:58:31.998989Z",
          "iopub.status.idle": "2025-10-26T20:58:32.053418Z",
          "shell.execute_reply.started": "2025-10-26T20:58:31.998969Z",
          "shell.execute_reply": "2025-10-26T20:58:32.052821Z"
        },
        "id": "hhJ5FT_PU6GD"
      },
      "outputs": [],
      "execution_count": null
    },
    {
      "cell_type": "markdown",
      "source": [
        "# Step 8: Predict new logs"
      ],
      "metadata": {
        "id": "A8t_HVPBU6GE"
      }
    },
    {
      "cell_type": "code",
      "source": [
        "new_logs = [\n",
        "    \"authentication failure; user=root\",\n",
        "    \"kernel module loaded successfully\",\n",
        "    \"check pass; user unknown\",\n",
        "    \"connection from 82.83.227.67 (dsl-082-083-227-...\"\n",
        "]"
      ],
      "metadata": {
        "trusted": true,
        "execution": {
          "iopub.status.busy": "2025-10-26T21:00:06.432223Z",
          "iopub.execute_input": "2025-10-26T21:00:06.432491Z",
          "iopub.status.idle": "2025-10-26T21:00:06.436595Z",
          "shell.execute_reply.started": "2025-10-26T21:00:06.432472Z",
          "shell.execute_reply": "2025-10-26T21:00:06.435921Z"
        },
        "id": "L5Dak_9ZU6GE"
      },
      "outputs": [],
      "execution_count": null
    },
    {
      "cell_type": "code",
      "source": [
        "new_vec = vectorizer.transform(new_logs)\n",
        "preds = model.predict(new_vec)\n",
        "print(list(zip(new_logs, preds)))\n"
      ],
      "metadata": {
        "trusted": true,
        "execution": {
          "iopub.status.busy": "2025-10-26T21:00:06.684434Z",
          "iopub.execute_input": "2025-10-26T21:00:06.685211Z",
          "iopub.status.idle": "2025-10-26T21:00:06.690879Z",
          "shell.execute_reply.started": "2025-10-26T21:00:06.685187Z",
          "shell.execute_reply": "2025-10-26T21:00:06.690138Z"
        },
        "id": "WNwADWlwU6GE"
      },
      "outputs": [],
      "execution_count": null
    },
    {
      "cell_type": "code",
      "source": [],
      "metadata": {
        "trusted": true,
        "id": "beM3mmOhU6GF"
      },
      "outputs": [],
      "execution_count": null
    }
  ]
}