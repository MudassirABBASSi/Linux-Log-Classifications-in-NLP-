{
  "metadata": {
    "kernelspec": {
      "language": "python",
      "display_name": "Python 3",
      "name": "python3"
    },
    "language_info": {
      "name": "python",
      "version": "3.11.13",
      "mimetype": "text/x-python",
      "codemirror_mode": {
        "name": "ipython",
        "version": 3
      },
      "pygments_lexer": "ipython3",
      "nbconvert_exporter": "python",
      "file_extension": ".py"
    },
    "kaggle": {
      "accelerator": "gpu",
      "dataSources": [
        {
          "sourceId": 5044039,
          "sourceType": "datasetVersion",
          "datasetId": 2928110
        }
      ],
      "dockerImageVersionId": 31154,
      "isInternetEnabled": true,
      "language": "python",
      "sourceType": "notebook",
      "isGpuEnabled": true
    },
    "colab": {
      "name": "Linux log anomalies Detections",
      "provenance": [],
      "include_colab_link": true
    }
  },
  "nbformat_minor": 0,
  "nbformat": 4,
  "cells": [
    {
      "cell_type": "markdown",
      "metadata": {
        "id": "view-in-github",
        "colab_type": "text"
      },
      "source": [
        "<a href=\"https://colab.research.google.com/github/MudassirABBASSi/Linux-Log-Classifications-in-NLP-/blob/main/Linux_log_anomalies_Detections.ipynb\" target=\"_parent\"><img src=\"https://colab.research.google.com/assets/colab-badge.svg\" alt=\"Open In Colab\"/></a>"
      ]
    },
    {
      "cell_type": "markdown",
      "source": [
        "# Import Libraries"
      ],
      "metadata": {
        "id": "cdbqNKeBRW6c"
      }
    },
    {
      "cell_type": "code",
      "source": [
        "import pandas as pd\n",
        "from sklearn.feature_extraction.text import TfidfVectorizer\n",
        "from sklearn.ensemble import IsolationForest\n",
        "import matplotlib.pyplot as plt\n",
        "import seaborn as sns\n"
      ],
      "metadata": {
        "trusted": true,
        "execution": {
          "iopub.status.busy": "2025-10-26T20:37:35.309444Z",
          "iopub.execute_input": "2025-10-26T20:37:35.309735Z",
          "iopub.status.idle": "2025-10-26T20:37:35.733803Z",
          "shell.execute_reply.started": "2025-10-26T20:37:35.309707Z",
          "shell.execute_reply": "2025-10-26T20:37:35.73303Z"
        },
        "id": "Ucdv1G2oRW6e"
      },
      "outputs": [],
      "execution_count": 1
    },
    {
      "cell_type": "code",
      "source": [
        "data = pd.read_csv(\"/content/Linux_2k.log_structured.csv\")\n",
        "data"
      ],
      "metadata": {
        "trusted": true,
        "execution": {
          "iopub.status.busy": "2025-10-26T20:34:30.652819Z",
          "iopub.execute_input": "2025-10-26T20:34:30.653189Z",
          "iopub.status.idle": "2025-10-26T20:34:30.714992Z",
          "shell.execute_reply.started": "2025-10-26T20:34:30.65316Z",
          "shell.execute_reply": "2025-10-26T20:34:30.714252Z"
        },
        "id": "yHPXRo_xRW6f"
      },
      "outputs": [],
      "execution_count": null
    },
    {
      "cell_type": "markdown",
      "source": [
        "# Step 3: Inspect data\n"
      ],
      "metadata": {
        "id": "knTgh3O2RW6g"
      }
    },
    {
      "cell_type": "code",
      "source": [
        "print(data.head())\n",
        "print(\"\\nColumns:\", data.columns)"
      ],
      "metadata": {
        "trusted": true,
        "execution": {
          "iopub.status.busy": "2025-10-26T20:34:30.716672Z",
          "iopub.execute_input": "2025-10-26T20:34:30.71703Z",
          "iopub.status.idle": "2025-10-26T20:34:30.727406Z",
          "shell.execute_reply.started": "2025-10-26T20:34:30.717006Z",
          "shell.execute_reply": "2025-10-26T20:34:30.726538Z"
        },
        "id": "G8wfZthCRW6h"
      },
      "outputs": [],
      "execution_count": null
    },
    {
      "cell_type": "markdown",
      "source": [
        "# Step 4: Choose the text column for analysis (Content or EventTemplate)\n",
        "**We'll use 'Content' as it contains the actual log message**"
      ],
      "metadata": {
        "id": "CKwa2bWIRW6i"
      }
    },
    {
      "cell_type": "code",
      "source": [
        "\n",
        "data['Content'] = data['Content'].astype(str).fillna(\"\")"
      ],
      "metadata": {
        "trusted": true,
        "execution": {
          "iopub.status.busy": "2025-10-26T20:34:30.728206Z",
          "iopub.execute_input": "2025-10-26T20:34:30.728714Z",
          "iopub.status.idle": "2025-10-26T20:34:30.743889Z",
          "shell.execute_reply.started": "2025-10-26T20:34:30.728688Z",
          "shell.execute_reply": "2025-10-26T20:34:30.743167Z"
        },
        "id": "yyBm4r3fRW6j"
      },
      "outputs": [],
      "execution_count": null
    },
    {
      "cell_type": "markdown",
      "source": [
        "# Step 5: Convert text into numerical features using TF-IDF"
      ],
      "metadata": {
        "id": "4bFL260QRW6j"
      }
    },
    {
      "cell_type": "code",
      "source": [
        "\n",
        "vectorizer = TfidfVectorizer(max_features=5000, stop_words='english')\n",
        "X = vectorizer.fit_transform(data['Content'])"
      ],
      "metadata": {
        "trusted": true,
        "execution": {
          "iopub.status.busy": "2025-10-26T20:34:30.744533Z",
          "iopub.execute_input": "2025-10-26T20:34:30.744765Z",
          "iopub.status.idle": "2025-10-26T20:34:30.820371Z",
          "shell.execute_reply.started": "2025-10-26T20:34:30.744741Z",
          "shell.execute_reply": "2025-10-26T20:34:30.819752Z"
        },
        "id": "x8XFiOQ4RW6k"
      },
      "outputs": [],
      "execution_count": null
    },
    {
      "cell_type": "markdown",
      "source": [
        "# Optional Improvements\n",
        "\n",
        "**You can also: Use both Content + EventTemplate together for better features:**"
      ],
      "metadata": {
        "id": "pJuUF0sjRW6k"
      }
    },
    {
      "cell_type": "code",
      "source": [
        "\n",
        "\n",
        "data['combined_text'] = data['Content'].astype(str) + \" \" + data['EventTemplate'].astype(str)\n",
        "X = vectorizer.fit_transform(data['combined_text'])\n",
        "\n",
        "\n"
      ],
      "metadata": {
        "trusted": true,
        "execution": {
          "iopub.status.busy": "2025-10-26T20:34:30.821096Z",
          "iopub.execute_input": "2025-10-26T20:34:30.821355Z",
          "iopub.status.idle": "2025-10-26T20:34:30.864509Z",
          "shell.execute_reply.started": "2025-10-26T20:34:30.821333Z",
          "shell.execute_reply": "2025-10-26T20:34:30.863953Z"
        },
        "id": "bOxRIpFiRW6k"
      },
      "outputs": [],
      "execution_count": null
    },
    {
      "cell_type": "markdown",
      "source": [
        "# Step 6: Train Isolation Forest model\\\n",
        "\n",
        "\n",
        "**Visualize anomalies by frequency or time trends.Replace IsolationForest with OneClassSVM or a deep learning Autoencoder if you want more advanced detection.**\n"
      ],
      "metadata": {
        "id": "TYBWSPAvRW6l"
      }
    },
    {
      "cell_type": "code",
      "source": [
        "\n",
        "model = IsolationForest(contamination=0.05, random_state=42)\n",
        "model.fit(X)"
      ],
      "metadata": {
        "trusted": true,
        "execution": {
          "iopub.status.busy": "2025-10-26T20:34:30.865275Z",
          "iopub.execute_input": "2025-10-26T20:34:30.865529Z",
          "iopub.status.idle": "2025-10-26T20:34:31.120555Z",
          "shell.execute_reply.started": "2025-10-26T20:34:30.86549Z",
          "shell.execute_reply": "2025-10-26T20:34:31.119747Z"
        },
        "id": "S2KolNACRW6l"
      },
      "outputs": [],
      "execution_count": null
    },
    {
      "cell_type": "markdown",
      "source": [
        "\n",
        "# Step 7: Predict anomalies"
      ],
      "metadata": {
        "id": "JXk9WLvfRW6m"
      }
    },
    {
      "cell_type": "code",
      "source": [
        "\n",
        "data['anomaly'] = model.predict(X)"
      ],
      "metadata": {
        "trusted": true,
        "execution": {
          "iopub.status.busy": "2025-10-26T20:34:31.121507Z",
          "iopub.execute_input": "2025-10-26T20:34:31.121867Z",
          "iopub.status.idle": "2025-10-26T20:34:31.256206Z",
          "shell.execute_reply.started": "2025-10-26T20:34:31.12184Z",
          "shell.execute_reply": "2025-10-26T20:34:31.255392Z"
        },
        "id": "wEGRjQLrRW6m"
      },
      "outputs": [],
      "execution_count": null
    },
    {
      "cell_type": "markdown",
      "source": [
        "# Step 8: Interpret results\n",
        "**In Isolation Forest: -1 = anomaly, 1 = normal**"
      ],
      "metadata": {
        "id": "GruOFLuKRW6n"
      }
    },
    {
      "cell_type": "code",
      "source": [
        "\n",
        "anomalies = data[data['anomaly'] == -1]\n",
        "normal = data[data['anomaly'] == 1]"
      ],
      "metadata": {
        "trusted": true,
        "execution": {
          "iopub.status.busy": "2025-10-26T20:34:31.258019Z",
          "iopub.execute_input": "2025-10-26T20:34:31.258246Z",
          "iopub.status.idle": "2025-10-26T20:34:31.265829Z",
          "shell.execute_reply.started": "2025-10-26T20:34:31.258213Z",
          "shell.execute_reply": "2025-10-26T20:34:31.265102Z"
        },
        "id": "_Gs8MaclRW6n"
      },
      "outputs": [],
      "execution_count": null
    },
    {
      "cell_type": "code",
      "source": [
        "print(f\" Total rows: {len(data)}\")\n",
        "print(f\"| Anomalies detected: {len(anomalies)}\")"
      ],
      "metadata": {
        "trusted": true,
        "execution": {
          "iopub.status.busy": "2025-10-26T20:34:31.266599Z",
          "iopub.execute_input": "2025-10-26T20:34:31.266802Z",
          "iopub.status.idle": "2025-10-26T20:34:31.282089Z",
          "shell.execute_reply.started": "2025-10-26T20:34:31.266787Z",
          "shell.execute_reply": "2025-10-26T20:34:31.281349Z"
        },
        "id": "did9A7h1RW6o"
      },
      "outputs": [],
      "execution_count": null
    },
    {
      "cell_type": "markdown",
      "source": [
        "# Show some examples of detected anomalies\n"
      ],
      "metadata": {
        "id": "TsIy04jJRW6o"
      }
    },
    {
      "cell_type": "code",
      "source": [
        "print(\"\\n Sample anomalies:\")\n",
        "print(anomalies[['Date', 'Time', 'Level', 'Component', 'Content']].head(10))"
      ],
      "metadata": {
        "trusted": true,
        "execution": {
          "iopub.status.busy": "2025-10-26T20:34:31.282689Z",
          "iopub.execute_input": "2025-10-26T20:34:31.282891Z",
          "iopub.status.idle": "2025-10-26T20:34:31.297891Z",
          "shell.execute_reply.started": "2025-10-26T20:34:31.282877Z",
          "shell.execute_reply": "2025-10-26T20:34:31.297106Z"
        },
        "id": "q6tkr4k1RW6p"
      },
      "outputs": [],
      "execution_count": null
    },
    {
      "cell_type": "code",
      "source": [
        "anomalies['Content'].value_counts()"
      ],
      "metadata": {
        "trusted": true,
        "execution": {
          "iopub.status.busy": "2025-10-26T20:42:10.027542Z",
          "iopub.execute_input": "2025-10-26T20:42:10.027782Z",
          "iopub.status.idle": "2025-10-26T20:42:10.036192Z",
          "shell.execute_reply.started": "2025-10-26T20:42:10.027766Z",
          "shell.execute_reply": "2025-10-26T20:42:10.035441Z"
        },
        "id": "H6av5LYzRW6q"
      },
      "outputs": [],
      "execution_count": null
    },
    {
      "cell_type": "code",
      "source": [
        "anomalies['Content'].shape"
      ],
      "metadata": {
        "trusted": true,
        "execution": {
          "iopub.status.busy": "2025-10-26T20:42:39.031692Z",
          "iopub.execute_input": "2025-10-26T20:42:39.032236Z",
          "iopub.status.idle": "2025-10-26T20:42:39.036806Z",
          "shell.execute_reply.started": "2025-10-26T20:42:39.0322Z",
          "shell.execute_reply": "2025-10-26T20:42:39.036271Z"
        },
        "id": "g319ra6GRW6q"
      },
      "outputs": [],
      "execution_count": null
    },
    {
      "cell_type": "code",
      "source": [
        "plt.figure(figsize=(80, 20))\n",
        "sns.countplot(x=anomalies['Content'], data=data, palette='coolwarm')\n",
        "plt.title(\"Distribution of Normal vs Anomalous Logs\")\n",
        "plt.xlabel(\"Log Type\")\n",
        "plt.ylabel(\"Count\")\n",
        "plt.show()"
      ],
      "metadata": {
        "trusted": true,
        "execution": {
          "iopub.status.busy": "2025-10-26T20:41:49.897335Z",
          "iopub.execute_input": "2025-10-26T20:41:49.897996Z",
          "iopub.status.idle": "2025-10-26T20:41:50.635054Z",
          "shell.execute_reply.started": "2025-10-26T20:41:49.897974Z",
          "shell.execute_reply": "2025-10-26T20:41:50.634353Z"
        },
        "id": "OhwU48TPRW6r"
      },
      "outputs": [],
      "execution_count": null
    },
    {
      "cell_type": "code",
      "source": [],
      "metadata": {
        "trusted": true,
        "id": "WImXRcZnRW6r"
      },
      "outputs": [],
      "execution_count": null
    }
  ]
}