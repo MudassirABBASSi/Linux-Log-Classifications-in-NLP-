{
  "metadata": {
    "kernelspec": {
      "display_name": "Python 3",
      "name": "python3"
    },
    "language_info": {
      "name": "python",
      "version": "3.11.13",
      "mimetype": "text/x-python",
      "codemirror_mode": {
        "name": "ipython",
        "version": 3
      },
      "pygments_lexer": "ipython3",
      "nbconvert_exporter": "python",
      "file_extension": ".py"
    },
    "kaggle": {
      "accelerator": "gpu",
      "dataSources": [
        {
          "sourceId": 5044039,
          "sourceType": "datasetVersion",
          "datasetId": 2928110
        }
      ],
      "dockerImageVersionId": 31154,
      "isInternetEnabled": true,
      "language": "python",
      "sourceType": "notebook",
      "isGpuEnabled": true
    },
    "colab": {
      "name": "notebookcfb697de56",
      "provenance": []
    }
  },
  "nbformat_minor": 0,
  "nbformat": 4,
  "cells": [
    {
      "cell_type": "markdown",
      "source": [
        "# import Libraries"
      ],
      "metadata": {
        "id": "UfiyXkJ-jLjC"
      }
    },
    {
      "cell_type": "code",
      "source": [
        "import pandas as pd"
      ],
      "metadata": {
        "trusted": true,
        "execution": {
          "iopub.status.busy": "2025-10-25T17:09:50.520561Z",
          "iopub.execute_input": "2025-10-25T17:09:50.521038Z",
          "iopub.status.idle": "2025-10-25T17:09:50.524367Z",
          "shell.execute_reply.started": "2025-10-25T17:09:50.521009Z",
          "shell.execute_reply": "2025-10-25T17:09:50.523682Z"
        },
        "id": "iV9VRLT5jLjH"
      },
      "outputs": [],
      "execution_count": 74
    },
    {
      "cell_type": "markdown",
      "source": [
        "# Load the Dataset"
      ],
      "metadata": {
        "id": "H2XjhFgqjLjJ"
      }
    },
    {
      "cell_type": "code",
      "source": [
        "# !unzip \"/content/archive.zip\""
      ],
      "metadata": {
        "id": "FNxzucq6nFAm"
      },
      "execution_count": 75,
      "outputs": []
    },
    {
      "cell_type": "code",
      "source": [
        "data = pd.read_csv(\"/content/Linux_2k.log_structured.csv\")\n",
        "\n",
        "data"
      ],
      "metadata": {
        "trusted": true,
        "execution": {
          "iopub.status.busy": "2025-10-25T17:30:17.025044Z",
          "iopub.execute_input": "2025-10-25T17:30:17.025599Z",
          "iopub.status.idle": "2025-10-25T17:30:17.05268Z",
          "shell.execute_reply.started": "2025-10-25T17:30:17.025576Z",
          "shell.execute_reply": "2025-10-25T17:30:17.052087Z"
        },
        "colab": {
          "base_uri": "https://localhost:8080/",
          "height": 423
        },
        "id": "wh3f0frGjLjL",
        "outputId": "37be2708-5a51-4e09-b0e1-b7bc8bdf9b9a"
      },
      "outputs": [
        {
          "output_type": "execute_result",
          "data": {
            "text/plain": [
              "      LineId Month  Date      Time  Level       Component      PID  \\\n",
              "0          1   Jun    14  15:16:01  combo  sshd(pam_unix)  19939.0   \n",
              "1          2   Jun    14  15:16:02  combo  sshd(pam_unix)  19937.0   \n",
              "2          3   Jun    14  15:16:02  combo  sshd(pam_unix)  19937.0   \n",
              "3          4   Jun    15  02:04:59  combo  sshd(pam_unix)  20882.0   \n",
              "4          5   Jun    15  02:04:59  combo  sshd(pam_unix)  20884.0   \n",
              "...      ...   ...   ...       ...    ...             ...      ...   \n",
              "1995    1996   Jul    27  14:41:59  combo          kernel      NaN   \n",
              "1996    1997   Jul    27  14:42:00  combo          kernel      NaN   \n",
              "1997    1998   Jul    27  14:42:00  combo          kernel      NaN   \n",
              "1998    1999   Jul    27  14:42:00  combo          kernel      NaN   \n",
              "1999    2000   Jul    27  14:42:00  combo          kernel      NaN   \n",
              "\n",
              "                                                Content EventId  \\\n",
              "0     authentication failure; logname= uid=0 euid=0 ...     E16   \n",
              "1                              check pass; user unknown     E27   \n",
              "2     authentication failure; logname= uid=0 euid=0 ...     E16   \n",
              "3     authentication failure; logname= uid=0 euid=0 ...     E18   \n",
              "4     authentication failure; logname= uid=0 euid=0 ...     E18   \n",
              "...                                                 ...     ...   \n",
              "1995    pci_hotplug: PCI Hot Plug PCI Core version: 0.5     E83   \n",
              "1996                  isapnp: Scanning for PnP cards...     E60   \n",
              "1997                isapnp: No Plug & Play device found     E59   \n",
              "1998                       Real Time Clock Driver v1.12     E87   \n",
              "1999      Linux agpgart interface v0.100 (c) Dave Jones     E66   \n",
              "\n",
              "                                          EventTemplate  \n",
              "0     authentication failure; logname= uid=0 euid=0 ...  \n",
              "1                              check pass; user unknown  \n",
              "2     authentication failure; logname= uid=0 euid=0 ...  \n",
              "3     authentication failure; logname= uid=0 euid=0 ...  \n",
              "4     authentication failure; logname= uid=0 euid=0 ...  \n",
              "...                                                 ...  \n",
              "1995  pci_hotplug: PCI Hot Plug PCI Core version: <*...  \n",
              "1996                  isapnp: Scanning for PnP cards...  \n",
              "1997                isapnp: No Plug & Play device found  \n",
              "1998                    Real Time Clock Driver v<*>.<*>  \n",
              "1999    Linux agpgart interface v<*>.<*> (c) Dave Jones  \n",
              "\n",
              "[2000 rows x 10 columns]"
            ],
            "text/html": [
              "\n",
              "  <div id=\"df-c4075f8a-7dd4-40d4-91d5-f5c2280fd555\" class=\"colab-df-container\">\n",
              "    <div>\n",
              "<style scoped>\n",
              "    .dataframe tbody tr th:only-of-type {\n",
              "        vertical-align: middle;\n",
              "    }\n",
              "\n",
              "    .dataframe tbody tr th {\n",
              "        vertical-align: top;\n",
              "    }\n",
              "\n",
              "    .dataframe thead th {\n",
              "        text-align: right;\n",
              "    }\n",
              "</style>\n",
              "<table border=\"1\" class=\"dataframe\">\n",
              "  <thead>\n",
              "    <tr style=\"text-align: right;\">\n",
              "      <th></th>\n",
              "      <th>LineId</th>\n",
              "      <th>Month</th>\n",
              "      <th>Date</th>\n",
              "      <th>Time</th>\n",
              "      <th>Level</th>\n",
              "      <th>Component</th>\n",
              "      <th>PID</th>\n",
              "      <th>Content</th>\n",
              "      <th>EventId</th>\n",
              "      <th>EventTemplate</th>\n",
              "    </tr>\n",
              "  </thead>\n",
              "  <tbody>\n",
              "    <tr>\n",
              "      <th>0</th>\n",
              "      <td>1</td>\n",
              "      <td>Jun</td>\n",
              "      <td>14</td>\n",
              "      <td>15:16:01</td>\n",
              "      <td>combo</td>\n",
              "      <td>sshd(pam_unix)</td>\n",
              "      <td>19939.0</td>\n",
              "      <td>authentication failure; logname= uid=0 euid=0 ...</td>\n",
              "      <td>E16</td>\n",
              "      <td>authentication failure; logname= uid=0 euid=0 ...</td>\n",
              "    </tr>\n",
              "    <tr>\n",
              "      <th>1</th>\n",
              "      <td>2</td>\n",
              "      <td>Jun</td>\n",
              "      <td>14</td>\n",
              "      <td>15:16:02</td>\n",
              "      <td>combo</td>\n",
              "      <td>sshd(pam_unix)</td>\n",
              "      <td>19937.0</td>\n",
              "      <td>check pass; user unknown</td>\n",
              "      <td>E27</td>\n",
              "      <td>check pass; user unknown</td>\n",
              "    </tr>\n",
              "    <tr>\n",
              "      <th>2</th>\n",
              "      <td>3</td>\n",
              "      <td>Jun</td>\n",
              "      <td>14</td>\n",
              "      <td>15:16:02</td>\n",
              "      <td>combo</td>\n",
              "      <td>sshd(pam_unix)</td>\n",
              "      <td>19937.0</td>\n",
              "      <td>authentication failure; logname= uid=0 euid=0 ...</td>\n",
              "      <td>E16</td>\n",
              "      <td>authentication failure; logname= uid=0 euid=0 ...</td>\n",
              "    </tr>\n",
              "    <tr>\n",
              "      <th>3</th>\n",
              "      <td>4</td>\n",
              "      <td>Jun</td>\n",
              "      <td>15</td>\n",
              "      <td>02:04:59</td>\n",
              "      <td>combo</td>\n",
              "      <td>sshd(pam_unix)</td>\n",
              "      <td>20882.0</td>\n",
              "      <td>authentication failure; logname= uid=0 euid=0 ...</td>\n",
              "      <td>E18</td>\n",
              "      <td>authentication failure; logname= uid=0 euid=0 ...</td>\n",
              "    </tr>\n",
              "    <tr>\n",
              "      <th>4</th>\n",
              "      <td>5</td>\n",
              "      <td>Jun</td>\n",
              "      <td>15</td>\n",
              "      <td>02:04:59</td>\n",
              "      <td>combo</td>\n",
              "      <td>sshd(pam_unix)</td>\n",
              "      <td>20884.0</td>\n",
              "      <td>authentication failure; logname= uid=0 euid=0 ...</td>\n",
              "      <td>E18</td>\n",
              "      <td>authentication failure; logname= uid=0 euid=0 ...</td>\n",
              "    </tr>\n",
              "    <tr>\n",
              "      <th>...</th>\n",
              "      <td>...</td>\n",
              "      <td>...</td>\n",
              "      <td>...</td>\n",
              "      <td>...</td>\n",
              "      <td>...</td>\n",
              "      <td>...</td>\n",
              "      <td>...</td>\n",
              "      <td>...</td>\n",
              "      <td>...</td>\n",
              "      <td>...</td>\n",
              "    </tr>\n",
              "    <tr>\n",
              "      <th>1995</th>\n",
              "      <td>1996</td>\n",
              "      <td>Jul</td>\n",
              "      <td>27</td>\n",
              "      <td>14:41:59</td>\n",
              "      <td>combo</td>\n",
              "      <td>kernel</td>\n",
              "      <td>NaN</td>\n",
              "      <td>pci_hotplug: PCI Hot Plug PCI Core version: 0.5</td>\n",
              "      <td>E83</td>\n",
              "      <td>pci_hotplug: PCI Hot Plug PCI Core version: &lt;*...</td>\n",
              "    </tr>\n",
              "    <tr>\n",
              "      <th>1996</th>\n",
              "      <td>1997</td>\n",
              "      <td>Jul</td>\n",
              "      <td>27</td>\n",
              "      <td>14:42:00</td>\n",
              "      <td>combo</td>\n",
              "      <td>kernel</td>\n",
              "      <td>NaN</td>\n",
              "      <td>isapnp: Scanning for PnP cards...</td>\n",
              "      <td>E60</td>\n",
              "      <td>isapnp: Scanning for PnP cards...</td>\n",
              "    </tr>\n",
              "    <tr>\n",
              "      <th>1997</th>\n",
              "      <td>1998</td>\n",
              "      <td>Jul</td>\n",
              "      <td>27</td>\n",
              "      <td>14:42:00</td>\n",
              "      <td>combo</td>\n",
              "      <td>kernel</td>\n",
              "      <td>NaN</td>\n",
              "      <td>isapnp: No Plug &amp; Play device found</td>\n",
              "      <td>E59</td>\n",
              "      <td>isapnp: No Plug &amp; Play device found</td>\n",
              "    </tr>\n",
              "    <tr>\n",
              "      <th>1998</th>\n",
              "      <td>1999</td>\n",
              "      <td>Jul</td>\n",
              "      <td>27</td>\n",
              "      <td>14:42:00</td>\n",
              "      <td>combo</td>\n",
              "      <td>kernel</td>\n",
              "      <td>NaN</td>\n",
              "      <td>Real Time Clock Driver v1.12</td>\n",
              "      <td>E87</td>\n",
              "      <td>Real Time Clock Driver v&lt;*&gt;.&lt;*&gt;</td>\n",
              "    </tr>\n",
              "    <tr>\n",
              "      <th>1999</th>\n",
              "      <td>2000</td>\n",
              "      <td>Jul</td>\n",
              "      <td>27</td>\n",
              "      <td>14:42:00</td>\n",
              "      <td>combo</td>\n",
              "      <td>kernel</td>\n",
              "      <td>NaN</td>\n",
              "      <td>Linux agpgart interface v0.100 (c) Dave Jones</td>\n",
              "      <td>E66</td>\n",
              "      <td>Linux agpgart interface v&lt;*&gt;.&lt;*&gt; (c) Dave Jones</td>\n",
              "    </tr>\n",
              "  </tbody>\n",
              "</table>\n",
              "<p>2000 rows × 10 columns</p>\n",
              "</div>\n",
              "    <div class=\"colab-df-buttons\">\n",
              "\n",
              "  <div class=\"colab-df-container\">\n",
              "    <button class=\"colab-df-convert\" onclick=\"convertToInteractive('df-c4075f8a-7dd4-40d4-91d5-f5c2280fd555')\"\n",
              "            title=\"Convert this dataframe to an interactive table.\"\n",
              "            style=\"display:none;\">\n",
              "\n",
              "  <svg xmlns=\"http://www.w3.org/2000/svg\" height=\"24px\" viewBox=\"0 -960 960 960\">\n",
              "    <path d=\"M120-120v-720h720v720H120Zm60-500h600v-160H180v160Zm220 220h160v-160H400v160Zm0 220h160v-160H400v160ZM180-400h160v-160H180v160Zm440 0h160v-160H620v160ZM180-180h160v-160H180v160Zm440 0h160v-160H620v160Z\"/>\n",
              "  </svg>\n",
              "    </button>\n",
              "\n",
              "  <style>\n",
              "    .colab-df-container {\n",
              "      display:flex;\n",
              "      gap: 12px;\n",
              "    }\n",
              "\n",
              "    .colab-df-convert {\n",
              "      background-color: #E8F0FE;\n",
              "      border: none;\n",
              "      border-radius: 50%;\n",
              "      cursor: pointer;\n",
              "      display: none;\n",
              "      fill: #1967D2;\n",
              "      height: 32px;\n",
              "      padding: 0 0 0 0;\n",
              "      width: 32px;\n",
              "    }\n",
              "\n",
              "    .colab-df-convert:hover {\n",
              "      background-color: #E2EBFA;\n",
              "      box-shadow: 0px 1px 2px rgba(60, 64, 67, 0.3), 0px 1px 3px 1px rgba(60, 64, 67, 0.15);\n",
              "      fill: #174EA6;\n",
              "    }\n",
              "\n",
              "    .colab-df-buttons div {\n",
              "      margin-bottom: 4px;\n",
              "    }\n",
              "\n",
              "    [theme=dark] .colab-df-convert {\n",
              "      background-color: #3B4455;\n",
              "      fill: #D2E3FC;\n",
              "    }\n",
              "\n",
              "    [theme=dark] .colab-df-convert:hover {\n",
              "      background-color: #434B5C;\n",
              "      box-shadow: 0px 1px 3px 1px rgba(0, 0, 0, 0.15);\n",
              "      filter: drop-shadow(0px 1px 2px rgba(0, 0, 0, 0.3));\n",
              "      fill: #FFFFFF;\n",
              "    }\n",
              "  </style>\n",
              "\n",
              "    <script>\n",
              "      const buttonEl =\n",
              "        document.querySelector('#df-c4075f8a-7dd4-40d4-91d5-f5c2280fd555 button.colab-df-convert');\n",
              "      buttonEl.style.display =\n",
              "        google.colab.kernel.accessAllowed ? 'block' : 'none';\n",
              "\n",
              "      async function convertToInteractive(key) {\n",
              "        const element = document.querySelector('#df-c4075f8a-7dd4-40d4-91d5-f5c2280fd555');\n",
              "        const dataTable =\n",
              "          await google.colab.kernel.invokeFunction('convertToInteractive',\n",
              "                                                    [key], {});\n",
              "        if (!dataTable) return;\n",
              "\n",
              "        const docLinkHtml = 'Like what you see? Visit the ' +\n",
              "          '<a target=\"_blank\" href=https://colab.research.google.com/notebooks/data_table.ipynb>data table notebook</a>'\n",
              "          + ' to learn more about interactive tables.';\n",
              "        element.innerHTML = '';\n",
              "        dataTable['output_type'] = 'display_data';\n",
              "        await google.colab.output.renderOutput(dataTable, element);\n",
              "        const docLink = document.createElement('div');\n",
              "        docLink.innerHTML = docLinkHtml;\n",
              "        element.appendChild(docLink);\n",
              "      }\n",
              "    </script>\n",
              "  </div>\n",
              "\n",
              "\n",
              "    <div id=\"df-80507ed9-ce1a-4525-8473-fa9052801762\">\n",
              "      <button class=\"colab-df-quickchart\" onclick=\"quickchart('df-80507ed9-ce1a-4525-8473-fa9052801762')\"\n",
              "                title=\"Suggest charts\"\n",
              "                style=\"display:none;\">\n",
              "\n",
              "<svg xmlns=\"http://www.w3.org/2000/svg\" height=\"24px\"viewBox=\"0 0 24 24\"\n",
              "     width=\"24px\">\n",
              "    <g>\n",
              "        <path d=\"M19 3H5c-1.1 0-2 .9-2 2v14c0 1.1.9 2 2 2h14c1.1 0 2-.9 2-2V5c0-1.1-.9-2-2-2zM9 17H7v-7h2v7zm4 0h-2V7h2v10zm4 0h-2v-4h2v4z\"/>\n",
              "    </g>\n",
              "</svg>\n",
              "      </button>\n",
              "\n",
              "<style>\n",
              "  .colab-df-quickchart {\n",
              "      --bg-color: #E8F0FE;\n",
              "      --fill-color: #1967D2;\n",
              "      --hover-bg-color: #E2EBFA;\n",
              "      --hover-fill-color: #174EA6;\n",
              "      --disabled-fill-color: #AAA;\n",
              "      --disabled-bg-color: #DDD;\n",
              "  }\n",
              "\n",
              "  [theme=dark] .colab-df-quickchart {\n",
              "      --bg-color: #3B4455;\n",
              "      --fill-color: #D2E3FC;\n",
              "      --hover-bg-color: #434B5C;\n",
              "      --hover-fill-color: #FFFFFF;\n",
              "      --disabled-bg-color: #3B4455;\n",
              "      --disabled-fill-color: #666;\n",
              "  }\n",
              "\n",
              "  .colab-df-quickchart {\n",
              "    background-color: var(--bg-color);\n",
              "    border: none;\n",
              "    border-radius: 50%;\n",
              "    cursor: pointer;\n",
              "    display: none;\n",
              "    fill: var(--fill-color);\n",
              "    height: 32px;\n",
              "    padding: 0;\n",
              "    width: 32px;\n",
              "  }\n",
              "\n",
              "  .colab-df-quickchart:hover {\n",
              "    background-color: var(--hover-bg-color);\n",
              "    box-shadow: 0 1px 2px rgba(60, 64, 67, 0.3), 0 1px 3px 1px rgba(60, 64, 67, 0.15);\n",
              "    fill: var(--button-hover-fill-color);\n",
              "  }\n",
              "\n",
              "  .colab-df-quickchart-complete:disabled,\n",
              "  .colab-df-quickchart-complete:disabled:hover {\n",
              "    background-color: var(--disabled-bg-color);\n",
              "    fill: var(--disabled-fill-color);\n",
              "    box-shadow: none;\n",
              "  }\n",
              "\n",
              "  .colab-df-spinner {\n",
              "    border: 2px solid var(--fill-color);\n",
              "    border-color: transparent;\n",
              "    border-bottom-color: var(--fill-color);\n",
              "    animation:\n",
              "      spin 1s steps(1) infinite;\n",
              "  }\n",
              "\n",
              "  @keyframes spin {\n",
              "    0% {\n",
              "      border-color: transparent;\n",
              "      border-bottom-color: var(--fill-color);\n",
              "      border-left-color: var(--fill-color);\n",
              "    }\n",
              "    20% {\n",
              "      border-color: transparent;\n",
              "      border-left-color: var(--fill-color);\n",
              "      border-top-color: var(--fill-color);\n",
              "    }\n",
              "    30% {\n",
              "      border-color: transparent;\n",
              "      border-left-color: var(--fill-color);\n",
              "      border-top-color: var(--fill-color);\n",
              "      border-right-color: var(--fill-color);\n",
              "    }\n",
              "    40% {\n",
              "      border-color: transparent;\n",
              "      border-right-color: var(--fill-color);\n",
              "      border-top-color: var(--fill-color);\n",
              "    }\n",
              "    60% {\n",
              "      border-color: transparent;\n",
              "      border-right-color: var(--fill-color);\n",
              "    }\n",
              "    80% {\n",
              "      border-color: transparent;\n",
              "      border-right-color: var(--fill-color);\n",
              "      border-bottom-color: var(--fill-color);\n",
              "    }\n",
              "    90% {\n",
              "      border-color: transparent;\n",
              "      border-bottom-color: var(--fill-color);\n",
              "    }\n",
              "  }\n",
              "</style>\n",
              "\n",
              "      <script>\n",
              "        async function quickchart(key) {\n",
              "          const quickchartButtonEl =\n",
              "            document.querySelector('#' + key + ' button');\n",
              "          quickchartButtonEl.disabled = true;  // To prevent multiple clicks.\n",
              "          quickchartButtonEl.classList.add('colab-df-spinner');\n",
              "          try {\n",
              "            const charts = await google.colab.kernel.invokeFunction(\n",
              "                'suggestCharts', [key], {});\n",
              "          } catch (error) {\n",
              "            console.error('Error during call to suggestCharts:', error);\n",
              "          }\n",
              "          quickchartButtonEl.classList.remove('colab-df-spinner');\n",
              "          quickchartButtonEl.classList.add('colab-df-quickchart-complete');\n",
              "        }\n",
              "        (() => {\n",
              "          let quickchartButtonEl =\n",
              "            document.querySelector('#df-80507ed9-ce1a-4525-8473-fa9052801762 button');\n",
              "          quickchartButtonEl.style.display =\n",
              "            google.colab.kernel.accessAllowed ? 'block' : 'none';\n",
              "        })();\n",
              "      </script>\n",
              "    </div>\n",
              "\n",
              "  <div id=\"id_ae251f74-1c4c-40a4-bccb-135fdfb0c743\">\n",
              "    <style>\n",
              "      .colab-df-generate {\n",
              "        background-color: #E8F0FE;\n",
              "        border: none;\n",
              "        border-radius: 50%;\n",
              "        cursor: pointer;\n",
              "        display: none;\n",
              "        fill: #1967D2;\n",
              "        height: 32px;\n",
              "        padding: 0 0 0 0;\n",
              "        width: 32px;\n",
              "      }\n",
              "\n",
              "      .colab-df-generate:hover {\n",
              "        background-color: #E2EBFA;\n",
              "        box-shadow: 0px 1px 2px rgba(60, 64, 67, 0.3), 0px 1px 3px 1px rgba(60, 64, 67, 0.15);\n",
              "        fill: #174EA6;\n",
              "      }\n",
              "\n",
              "      [theme=dark] .colab-df-generate {\n",
              "        background-color: #3B4455;\n",
              "        fill: #D2E3FC;\n",
              "      }\n",
              "\n",
              "      [theme=dark] .colab-df-generate:hover {\n",
              "        background-color: #434B5C;\n",
              "        box-shadow: 0px 1px 3px 1px rgba(0, 0, 0, 0.15);\n",
              "        filter: drop-shadow(0px 1px 2px rgba(0, 0, 0, 0.3));\n",
              "        fill: #FFFFFF;\n",
              "      }\n",
              "    </style>\n",
              "    <button class=\"colab-df-generate\" onclick=\"generateWithVariable('data')\"\n",
              "            title=\"Generate code using this dataframe.\"\n",
              "            style=\"display:none;\">\n",
              "\n",
              "  <svg xmlns=\"http://www.w3.org/2000/svg\" height=\"24px\"viewBox=\"0 0 24 24\"\n",
              "       width=\"24px\">\n",
              "    <path d=\"M7,19H8.4L18.45,9,17,7.55,7,17.6ZM5,21V16.75L18.45,3.32a2,2,0,0,1,2.83,0l1.4,1.43a1.91,1.91,0,0,1,.58,1.4,1.91,1.91,0,0,1-.58,1.4L9.25,21ZM18.45,9,17,7.55Zm-12,3A5.31,5.31,0,0,0,4.9,8.1,5.31,5.31,0,0,0,1,6.5,5.31,5.31,0,0,0,4.9,4.9,5.31,5.31,0,0,0,6.5,1,5.31,5.31,0,0,0,8.1,4.9,5.31,5.31,0,0,0,12,6.5,5.46,5.46,0,0,0,6.5,12Z\"/>\n",
              "  </svg>\n",
              "    </button>\n",
              "    <script>\n",
              "      (() => {\n",
              "      const buttonEl =\n",
              "        document.querySelector('#id_ae251f74-1c4c-40a4-bccb-135fdfb0c743 button.colab-df-generate');\n",
              "      buttonEl.style.display =\n",
              "        google.colab.kernel.accessAllowed ? 'block' : 'none';\n",
              "\n",
              "      buttonEl.onclick = () => {\n",
              "        google.colab.notebook.generateWithVariable('data');\n",
              "      }\n",
              "      })();\n",
              "    </script>\n",
              "  </div>\n",
              "\n",
              "    </div>\n",
              "  </div>\n"
            ],
            "application/vnd.google.colaboratory.intrinsic+json": {
              "type": "dataframe",
              "variable_name": "data",
              "summary": "{\n  \"name\": \"data\",\n  \"rows\": 2000,\n  \"fields\": [\n    {\n      \"column\": \"LineId\",\n      \"properties\": {\n        \"dtype\": \"number\",\n        \"std\": 577,\n        \"min\": 1,\n        \"max\": 2000,\n        \"num_unique_values\": 2000,\n        \"samples\": [\n          1861,\n          354,\n          1334\n        ],\n        \"semantic_type\": \"\",\n        \"description\": \"\"\n      }\n    },\n    {\n      \"column\": \"Month\",\n      \"properties\": {\n        \"dtype\": \"category\",\n        \"num_unique_values\": 2,\n        \"samples\": [\n          \"Jul\",\n          \"Jun\"\n        ],\n        \"semantic_type\": \"\",\n        \"description\": \"\"\n      }\n    },\n    {\n      \"column\": \"Date\",\n      \"properties\": {\n        \"dtype\": \"number\",\n        \"std\": 8,\n        \"min\": 1,\n        \"max\": 30,\n        \"num_unique_values\": 30,\n        \"samples\": [\n          11,\n          29\n        ],\n        \"semantic_type\": \"\",\n        \"description\": \"\"\n      }\n    },\n    {\n      \"column\": \"Time\",\n      \"properties\": {\n        \"dtype\": \"object\",\n        \"num_unique_values\": 586,\n        \"samples\": [\n          \"13:46:32\",\n          \"04:04:20\"\n        ],\n        \"semantic_type\": \"\",\n        \"description\": \"\"\n      }\n    },\n    {\n      \"column\": \"Level\",\n      \"properties\": {\n        \"dtype\": \"category\",\n        \"num_unique_values\": 1,\n        \"samples\": [\n          \"combo\"\n        ],\n        \"semantic_type\": \"\",\n        \"description\": \"\"\n      }\n    },\n    {\n      \"column\": \"Component\",\n      \"properties\": {\n        \"dtype\": \"category\",\n        \"num_unique_values\": 30,\n        \"samples\": [\n          \"bluetooth\"\n        ],\n        \"semantic_type\": \"\",\n        \"description\": \"\"\n      }\n    },\n    {\n      \"column\": \"PID\",\n      \"properties\": {\n        \"dtype\": \"number\",\n        \"std\": 8593.584577440533,\n        \"min\": 363.0,\n        \"max\": 32608.0,\n        \"num_unique_values\": 1550,\n        \"samples\": [\n          28707.0\n        ],\n        \"semantic_type\": \"\",\n        \"description\": \"\"\n      }\n    },\n    {\n      \"column\": \"Content\",\n      \"properties\": {\n        \"dtype\": \"category\",\n        \"num_unique_values\": 290,\n        \"samples\": [\n          \"connection from 211.72.151.162 () at Wed Jul  6 18:00:57 2005\"\n        ],\n        \"semantic_type\": \"\",\n        \"description\": \"\"\n      }\n    },\n    {\n      \"column\": \"EventId\",\n      \"properties\": {\n        \"dtype\": \"category\",\n        \"num_unique_values\": 118,\n        \"samples\": [\n          \"E113\"\n        ],\n        \"semantic_type\": \"\",\n        \"description\": \"\"\n      }\n    },\n    {\n      \"column\": \"EventTemplate\",\n      \"properties\": {\n        \"dtype\": \"category\",\n        \"num_unique_values\": 118,\n        \"samples\": [\n          \"Using tsc for high-res timesource\"\n        ],\n        \"semantic_type\": \"\",\n        \"description\": \"\"\n      }\n    }\n  ]\n}"
            }
          },
          "metadata": {},
          "execution_count": 76
        }
      ],
      "execution_count": 76
    },
    {
      "cell_type": "code",
      "source": [
        "data.EventId.unique()"
      ],
      "metadata": {
        "trusted": true,
        "colab": {
          "base_uri": "https://localhost:8080/"
        },
        "id": "YDqvpJ8ajLjM",
        "outputId": "468e50cf-e61f-4664-95ff-ab600fc63b37"
      },
      "outputs": [
        {
          "output_type": "execute_result",
          "data": {
            "text/plain": [
              "array(['E16', 'E27', 'E18', 'E102', 'E101', 'E8', 'E29', 'E17', 'E112',\n",
              "       'E37', 'E38', 'E90', 'E88', 'E13', 'E61', 'E14', 'E1', 'E51',\n",
              "       'E103', 'E91', 'E89', 'E36', 'E19', 'E15', 'E31', 'E9', 'E75',\n",
              "       'E47', 'E116', 'E106', 'E64', 'E68', 'E22', 'E21', 'E20', 'E2',\n",
              "       'E3', 'E118', 'E65', 'E76', 'E41', 'E74', 'E58', 'E50', 'E42',\n",
              "       'E4', 'E117', 'E24', 'E62', 'E69', 'E52', 'E32', 'E85', 'E84',\n",
              "       'E40', 'E114', 'E113', 'E93', 'E30', 'E70', 'E25', 'E96', 'E97',\n",
              "       'E99', 'E107', 'E46', 'E100', 'E26', 'E92', 'E39', 'E55', 'E71',\n",
              "       'E34', 'E35', 'E56', 'E57', 'E33', 'E44', 'E45', 'E28', 'E54',\n",
              "       'E86', 'E73', 'E78', 'E81', 'E72', 'E7', 'E6', 'E67', 'E105',\n",
              "       'E111', 'E110', 'E5', 'E77', 'E79', 'E80', 'E109', 'E82', 'E10',\n",
              "       'E12', 'E63', 'E48', 'E49', 'E11', 'E104', 'E94', 'E95', 'E108',\n",
              "       'E23', 'E115', 'E43', 'E98', 'E53', 'E83', 'E60', 'E59', 'E87',\n",
              "       'E66'], dtype=object)"
            ]
          },
          "metadata": {},
          "execution_count": 77
        }
      ],
      "execution_count": 77
    },
    {
      "cell_type": "code",
      "source": [
        "# data.Content.unique()\n",
        "data.Content.head()\n"
      ],
      "metadata": {
        "trusted": true,
        "execution": {
          "iopub.status.busy": "2025-10-25T17:30:33.866054Z",
          "iopub.execute_input": "2025-10-25T17:30:33.866747Z",
          "iopub.status.idle": "2025-10-25T17:30:33.871808Z",
          "shell.execute_reply.started": "2025-10-25T17:30:33.866725Z",
          "shell.execute_reply": "2025-10-25T17:30:33.871249Z"
        },
        "colab": {
          "base_uri": "https://localhost:8080/",
          "height": 241
        },
        "id": "bBTIdlQhjLjZ",
        "outputId": "4dfe5204-5d2a-499d-d385-00b8ea98031c"
      },
      "outputs": [
        {
          "output_type": "execute_result",
          "data": {
            "text/plain": [
              "0    authentication failure; logname= uid=0 euid=0 ...\n",
              "1                             check pass; user unknown\n",
              "2    authentication failure; logname= uid=0 euid=0 ...\n",
              "3    authentication failure; logname= uid=0 euid=0 ...\n",
              "4    authentication failure; logname= uid=0 euid=0 ...\n",
              "Name: Content, dtype: object"
            ],
            "text/html": [
              "<div>\n",
              "<style scoped>\n",
              "    .dataframe tbody tr th:only-of-type {\n",
              "        vertical-align: middle;\n",
              "    }\n",
              "\n",
              "    .dataframe tbody tr th {\n",
              "        vertical-align: top;\n",
              "    }\n",
              "\n",
              "    .dataframe thead th {\n",
              "        text-align: right;\n",
              "    }\n",
              "</style>\n",
              "<table border=\"1\" class=\"dataframe\">\n",
              "  <thead>\n",
              "    <tr style=\"text-align: right;\">\n",
              "      <th></th>\n",
              "      <th>Content</th>\n",
              "    </tr>\n",
              "  </thead>\n",
              "  <tbody>\n",
              "    <tr>\n",
              "      <th>0</th>\n",
              "      <td>authentication failure; logname= uid=0 euid=0 ...</td>\n",
              "    </tr>\n",
              "    <tr>\n",
              "      <th>1</th>\n",
              "      <td>check pass; user unknown</td>\n",
              "    </tr>\n",
              "    <tr>\n",
              "      <th>2</th>\n",
              "      <td>authentication failure; logname= uid=0 euid=0 ...</td>\n",
              "    </tr>\n",
              "    <tr>\n",
              "      <th>3</th>\n",
              "      <td>authentication failure; logname= uid=0 euid=0 ...</td>\n",
              "    </tr>\n",
              "    <tr>\n",
              "      <th>4</th>\n",
              "      <td>authentication failure; logname= uid=0 euid=0 ...</td>\n",
              "    </tr>\n",
              "  </tbody>\n",
              "</table>\n",
              "</div><br><label><b>dtype:</b> object</label>"
            ]
          },
          "metadata": {},
          "execution_count": 78
        }
      ],
      "execution_count": 78
    },
    {
      "cell_type": "code",
      "source": [
        "data['Content'].shape"
      ],
      "metadata": {
        "trusted": true,
        "execution": {
          "iopub.status.busy": "2025-10-25T17:30:34.064891Z",
          "iopub.execute_input": "2025-10-25T17:30:34.065447Z",
          "iopub.status.idle": "2025-10-25T17:30:34.069959Z",
          "shell.execute_reply.started": "2025-10-25T17:30:34.065425Z",
          "shell.execute_reply": "2025-10-25T17:30:34.06943Z"
        },
        "colab": {
          "base_uri": "https://localhost:8080/"
        },
        "id": "bpTfaSM_jLja",
        "outputId": "2fb5c7fe-c449-4dd6-8255-a96bea8c74c0"
      },
      "outputs": [
        {
          "output_type": "execute_result",
          "data": {
            "text/plain": [
              "(2000,)"
            ]
          },
          "metadata": {},
          "execution_count": 79
        }
      ],
      "execution_count": 79
    },
    {
      "cell_type": "code",
      "source": [
        "data.EventId.unique()"
      ],
      "metadata": {
        "trusted": true,
        "execution": {
          "iopub.status.busy": "2025-10-25T17:30:34.239758Z",
          "iopub.execute_input": "2025-10-25T17:30:34.240003Z",
          "iopub.status.idle": "2025-10-25T17:30:34.245331Z",
          "shell.execute_reply.started": "2025-10-25T17:30:34.239985Z",
          "shell.execute_reply": "2025-10-25T17:30:34.244733Z"
        },
        "colab": {
          "base_uri": "https://localhost:8080/"
        },
        "id": "W2rbXobwjLjb",
        "outputId": "86ee8bd8-1b96-447d-96ab-fc7a417fbd52"
      },
      "outputs": [
        {
          "output_type": "execute_result",
          "data": {
            "text/plain": [
              "array(['E16', 'E27', 'E18', 'E102', 'E101', 'E8', 'E29', 'E17', 'E112',\n",
              "       'E37', 'E38', 'E90', 'E88', 'E13', 'E61', 'E14', 'E1', 'E51',\n",
              "       'E103', 'E91', 'E89', 'E36', 'E19', 'E15', 'E31', 'E9', 'E75',\n",
              "       'E47', 'E116', 'E106', 'E64', 'E68', 'E22', 'E21', 'E20', 'E2',\n",
              "       'E3', 'E118', 'E65', 'E76', 'E41', 'E74', 'E58', 'E50', 'E42',\n",
              "       'E4', 'E117', 'E24', 'E62', 'E69', 'E52', 'E32', 'E85', 'E84',\n",
              "       'E40', 'E114', 'E113', 'E93', 'E30', 'E70', 'E25', 'E96', 'E97',\n",
              "       'E99', 'E107', 'E46', 'E100', 'E26', 'E92', 'E39', 'E55', 'E71',\n",
              "       'E34', 'E35', 'E56', 'E57', 'E33', 'E44', 'E45', 'E28', 'E54',\n",
              "       'E86', 'E73', 'E78', 'E81', 'E72', 'E7', 'E6', 'E67', 'E105',\n",
              "       'E111', 'E110', 'E5', 'E77', 'E79', 'E80', 'E109', 'E82', 'E10',\n",
              "       'E12', 'E63', 'E48', 'E49', 'E11', 'E104', 'E94', 'E95', 'E108',\n",
              "       'E23', 'E115', 'E43', 'E98', 'E53', 'E83', 'E60', 'E59', 'E87',\n",
              "       'E66'], dtype=object)"
            ]
          },
          "metadata": {},
          "execution_count": 80
        }
      ],
      "execution_count": 80
    },
    {
      "cell_type": "code",
      "source": [
        "print(data['EventId'].value_counts())"
      ],
      "metadata": {
        "trusted": true,
        "execution": {
          "iopub.status.busy": "2025-10-25T17:30:34.552017Z",
          "iopub.execute_input": "2025-10-25T17:30:34.552266Z",
          "iopub.status.idle": "2025-10-25T17:30:34.563728Z",
          "shell.execute_reply.started": "2025-10-25T17:30:34.552247Z",
          "shell.execute_reply": "2025-10-25T17:30:34.563039Z"
        },
        "colab": {
          "base_uri": "https://localhost:8080/"
        },
        "id": "eBoiJd-7jLjc",
        "outputId": "846798b9-3724-4e34-846f-5d354be5c9e2"
      },
      "outputs": [
        {
          "output_type": "stream",
          "name": "stdout",
          "text": [
            "EventId\n",
            "E29     909\n",
            "E18     351\n",
            "E101    123\n",
            "E102    122\n",
            "E27     117\n",
            "       ... \n",
            "E83       1\n",
            "E60       1\n",
            "E59       1\n",
            "E87       1\n",
            "E66       1\n",
            "Name: count, Length: 118, dtype: int64\n"
          ]
        }
      ],
      "execution_count": 81
    },
    {
      "cell_type": "markdown",
      "source": [
        "# Text Cleaning & Preprocessing"
      ],
      "metadata": {
        "id": "cybxIMgAjLjd"
      }
    },
    {
      "cell_type": "code",
      "source": [
        "import re\n",
        "\n",
        "def clean_text(text):\n",
        "    text = str(text).lower()\n",
        "    text = re.sub(r'[^a-zA-Z0-9\\s]', '', text)  # remove special chars\n",
        "    text = re.sub(r'\\s+', ' ', text).strip()\n",
        "    return text\n",
        "\n",
        "data[\"clean_content\"] = data[\"Content\"].apply(clean_text)"
      ],
      "metadata": {
        "trusted": true,
        "execution": {
          "iopub.status.busy": "2025-10-25T17:30:35.08137Z",
          "iopub.execute_input": "2025-10-25T17:30:35.08165Z",
          "iopub.status.idle": "2025-10-25T17:30:35.099632Z",
          "shell.execute_reply.started": "2025-10-25T17:30:35.081629Z",
          "shell.execute_reply": "2025-10-25T17:30:35.098936Z"
        },
        "id": "VEgA9zaBjLjd"
      },
      "outputs": [],
      "execution_count": 82
    },
    {
      "cell_type": "code",
      "source": [
        "data[\"clean_content\"]"
      ],
      "metadata": {
        "trusted": true,
        "execution": {
          "iopub.status.busy": "2025-10-25T17:30:35.209872Z",
          "iopub.execute_input": "2025-10-25T17:30:35.210386Z",
          "iopub.status.idle": "2025-10-25T17:30:35.215655Z",
          "shell.execute_reply.started": "2025-10-25T17:30:35.210366Z",
          "shell.execute_reply": "2025-10-25T17:30:35.215006Z"
        },
        "colab": {
          "base_uri": "https://localhost:8080/",
          "height": 458
        },
        "id": "2yZ0O9WdjLje",
        "outputId": "a7084d40-a4a9-43af-b4ec-399cd1c1a97b"
      },
      "outputs": [
        {
          "output_type": "execute_result",
          "data": {
            "text/plain": [
              "0       authentication failure logname uid0 euid0 ttyn...\n",
              "1                                 check pass user unknown\n",
              "2       authentication failure logname uid0 euid0 ttyn...\n",
              "3       authentication failure logname uid0 euid0 ttyn...\n",
              "4       authentication failure logname uid0 euid0 ttyn...\n",
              "                              ...                        \n",
              "1995          pcihotplug pci hot plug pci core version 05\n",
              "1996                        isapnp scanning for pnp cards\n",
              "1997                     isapnp no plug play device found\n",
              "1998                          real time clock driver v112\n",
              "1999           linux agpgart interface v0100 c dave jones\n",
              "Name: clean_content, Length: 2000, dtype: object"
            ],
            "text/html": [
              "<div>\n",
              "<style scoped>\n",
              "    .dataframe tbody tr th:only-of-type {\n",
              "        vertical-align: middle;\n",
              "    }\n",
              "\n",
              "    .dataframe tbody tr th {\n",
              "        vertical-align: top;\n",
              "    }\n",
              "\n",
              "    .dataframe thead th {\n",
              "        text-align: right;\n",
              "    }\n",
              "</style>\n",
              "<table border=\"1\" class=\"dataframe\">\n",
              "  <thead>\n",
              "    <tr style=\"text-align: right;\">\n",
              "      <th></th>\n",
              "      <th>clean_content</th>\n",
              "    </tr>\n",
              "  </thead>\n",
              "  <tbody>\n",
              "    <tr>\n",
              "      <th>0</th>\n",
              "      <td>authentication failure logname uid0 euid0 ttyn...</td>\n",
              "    </tr>\n",
              "    <tr>\n",
              "      <th>1</th>\n",
              "      <td>check pass user unknown</td>\n",
              "    </tr>\n",
              "    <tr>\n",
              "      <th>2</th>\n",
              "      <td>authentication failure logname uid0 euid0 ttyn...</td>\n",
              "    </tr>\n",
              "    <tr>\n",
              "      <th>3</th>\n",
              "      <td>authentication failure logname uid0 euid0 ttyn...</td>\n",
              "    </tr>\n",
              "    <tr>\n",
              "      <th>4</th>\n",
              "      <td>authentication failure logname uid0 euid0 ttyn...</td>\n",
              "    </tr>\n",
              "    <tr>\n",
              "      <th>...</th>\n",
              "      <td>...</td>\n",
              "    </tr>\n",
              "    <tr>\n",
              "      <th>1995</th>\n",
              "      <td>pcihotplug pci hot plug pci core version 05</td>\n",
              "    </tr>\n",
              "    <tr>\n",
              "      <th>1996</th>\n",
              "      <td>isapnp scanning for pnp cards</td>\n",
              "    </tr>\n",
              "    <tr>\n",
              "      <th>1997</th>\n",
              "      <td>isapnp no plug play device found</td>\n",
              "    </tr>\n",
              "    <tr>\n",
              "      <th>1998</th>\n",
              "      <td>real time clock driver v112</td>\n",
              "    </tr>\n",
              "    <tr>\n",
              "      <th>1999</th>\n",
              "      <td>linux agpgart interface v0100 c dave jones</td>\n",
              "    </tr>\n",
              "  </tbody>\n",
              "</table>\n",
              "<p>2000 rows × 1 columns</p>\n",
              "</div><br><label><b>dtype:</b> object</label>"
            ]
          },
          "metadata": {},
          "execution_count": 83
        }
      ],
      "execution_count": 83
    },
    {
      "cell_type": "code",
      "source": [
        "X = data[\"Content\"]\n",
        "y = data[\"EventId\"]"
      ],
      "metadata": {
        "trusted": true,
        "execution": {
          "iopub.status.busy": "2025-10-25T17:30:35.292368Z",
          "iopub.execute_input": "2025-10-25T17:30:35.292608Z",
          "iopub.status.idle": "2025-10-25T17:30:35.296332Z",
          "shell.execute_reply.started": "2025-10-25T17:30:35.292589Z",
          "shell.execute_reply": "2025-10-25T17:30:35.295634Z"
        },
        "id": "P3aTisNsjLje"
      },
      "outputs": [],
      "execution_count": 84
    },
    {
      "cell_type": "markdown",
      "source": [
        "# Text Vectorization\n",
        "1. Option A: TF-IDF (simple and effective)\n",
        "2. Option B: Use pre-trained models like FastText, Word2Vec, or BERT for deeper semantics."
      ],
      "metadata": {
        "id": "xGkyvdObjLjf"
      }
    },
    {
      "cell_type": "code",
      "source": [
        "from sklearn.feature_extraction.text import TfidfVectorizer\n",
        "\n",
        "vectorizer = TfidfVectorizer(max_features=5000, ngram_range=(1,2))\n",
        "X_vec = vectorizer.fit_transform(data[\"clean_content\"])\n"
      ],
      "metadata": {
        "trusted": true,
        "execution": {
          "iopub.status.busy": "2025-10-25T17:30:35.462543Z",
          "iopub.execute_input": "2025-10-25T17:30:35.463237Z",
          "iopub.status.idle": "2025-10-25T17:30:35.491598Z",
          "shell.execute_reply.started": "2025-10-25T17:30:35.463214Z",
          "shell.execute_reply": "2025-10-25T17:30:35.490969Z"
        },
        "id": "nBL6yioAjLjf"
      },
      "outputs": [],
      "execution_count": 85
    },
    {
      "cell_type": "code",
      "source": [
        "X_vec[:2]"
      ],
      "metadata": {
        "trusted": true,
        "execution": {
          "iopub.status.busy": "2025-10-25T17:30:35.608527Z",
          "iopub.execute_input": "2025-10-25T17:30:35.608769Z",
          "iopub.status.idle": "2025-10-25T17:30:35.614146Z",
          "shell.execute_reply.started": "2025-10-25T17:30:35.608752Z",
          "shell.execute_reply": "2025-10-25T17:30:35.61362Z"
        },
        "colab": {
          "base_uri": "https://localhost:8080/"
        },
        "id": "yz8hBFbIjLjf",
        "outputId": "63a450a6-45b7-4503-ce71-f331731904d0"
      },
      "outputs": [
        {
          "output_type": "execute_result",
          "data": {
            "text/plain": [
              "<Compressed Sparse Row sparse matrix of dtype 'float64'\n",
              "\twith 22 stored elements and shape (2, 1518)>"
            ]
          },
          "metadata": {},
          "execution_count": 86
        }
      ],
      "execution_count": 86
    },
    {
      "cell_type": "markdown",
      "source": [
        "# Encode Target Labels"
      ],
      "metadata": {
        "id": "ynrfUf1ajLjg"
      }
    },
    {
      "cell_type": "code",
      "source": [
        "from sklearn.preprocessing import LabelEncoder\n",
        "\n",
        "le = LabelEncoder()\n",
        "\n",
        "y_enc = le.fit_transform(y)\n",
        "y_enc"
      ],
      "metadata": {
        "trusted": true,
        "execution": {
          "iopub.status.busy": "2025-10-25T17:30:36.138841Z",
          "iopub.execute_input": "2025-10-25T17:30:36.13933Z",
          "iopub.status.idle": "2025-10-25T17:30:36.14525Z",
          "shell.execute_reply.started": "2025-10-25T17:30:36.139308Z",
          "shell.execute_reply": "2025-10-25T17:30:36.144452Z"
        },
        "colab": {
          "base_uri": "https://localhost:8080/"
        },
        "id": "LpmwTQaHjLjg",
        "outputId": "970ff0d2-323d-440a-c656-4006f28e4dae"
      },
      "outputs": [
        {
          "output_type": "execute_result",
          "data": {
            "text/plain": [
              "array([ 26,  38,  26, ...,  73, 104,  81])"
            ]
          },
          "metadata": {},
          "execution_count": 87
        }
      ],
      "execution_count": 87
    },
    {
      "cell_type": "markdown",
      "source": [
        "# Train Test Split"
      ],
      "metadata": {
        "id": "ow8EKavCjLji"
      }
    },
    {
      "cell_type": "code",
      "source": [
        "from sklearn.model_selection import train_test_split\n",
        "\n",
        "X_train, X_test, y_train, y_test = train_test_split(X_vec, y_enc, test_size=0.2, random_state=42)\n"
      ],
      "metadata": {
        "trusted": true,
        "execution": {
          "iopub.status.busy": "2025-10-25T17:30:36.478917Z",
          "iopub.execute_input": "2025-10-25T17:30:36.47923Z",
          "iopub.status.idle": "2025-10-25T17:30:36.484634Z",
          "shell.execute_reply.started": "2025-10-25T17:30:36.479209Z",
          "shell.execute_reply": "2025-10-25T17:30:36.483986Z"
        },
        "id": "3EBf26C6jLjj"
      },
      "outputs": [],
      "execution_count": 88
    },
    {
      "cell_type": "code",
      "source": [
        "from sklearn.linear_model import LogisticRegression\n",
        "from sklearn.metrics import classification_report, accuracy_score\n",
        "\n",
        "model = LogisticRegression(max_iter=200)\n",
        "model.fit(X_train, y_train)\n",
        "\n",
        "y_pred = model.predict(X_test)\n",
        "print(classification_report(y_test, y_pred))\n"
      ],
      "metadata": {
        "trusted": true,
        "execution": {
          "iopub.status.busy": "2025-10-25T17:39:57.261701Z",
          "iopub.status.idle": "2025-10-25T17:39:57.262026Z",
          "shell.execute_reply.started": "2025-10-25T17:39:57.261866Z",
          "shell.execute_reply": "2025-10-25T17:39:57.261882Z"
        },
        "colab": {
          "base_uri": "https://localhost:8080/"
        },
        "id": "7fR-up0tjLjn",
        "outputId": "967b3fd3-1d68-4806-87ca-79767bdfa47b"
      },
      "outputs": [
        {
          "output_type": "stream",
          "name": "stdout",
          "text": [
            "              precision    recall  f1-score   support\n",
            "\n",
            "           3       1.00      1.00      1.00        24\n",
            "           4       1.00      1.00      1.00        20\n",
            "          11       0.00      0.00      0.00         1\n",
            "          15       0.00      0.00      0.00         1\n",
            "          16       0.00      0.00      0.00         1\n",
            "          17       0.00      0.00      0.00         1\n",
            "          21       0.00      0.00      0.00         1\n",
            "          22       0.00      0.00      0.00         1\n",
            "          23       1.00      1.00      1.00         2\n",
            "          24       1.00      1.00      1.00         4\n",
            "          26       1.00      1.00      1.00        23\n",
            "          27       1.00      1.00      1.00         4\n",
            "          28       1.00      1.00      1.00        63\n",
            "          31       0.00      0.00      0.00         1\n",
            "          32       0.00      0.00      0.00         1\n",
            "          33       0.00      0.00      0.00         1\n",
            "          34       0.00      0.00      0.00         1\n",
            "          38       1.00      1.00      1.00        20\n",
            "          40       0.87      1.00      0.93       187\n",
            "          43       0.00      0.00      0.00         1\n",
            "          48       0.00      0.00      0.00         2\n",
            "          49       1.00      1.00      1.00         1\n",
            "          50       1.00      1.00      1.00         2\n",
            "          52       0.00      0.00      0.00         1\n",
            "          54       0.00      0.00      0.00         1\n",
            "          57       0.00      0.00      0.00         1\n",
            "          60       0.00      0.00      0.00         1\n",
            "          66       0.00      0.00      0.00         1\n",
            "          68       0.00      0.00      0.00         1\n",
            "          72       0.00      0.00      0.00         1\n",
            "          76       1.00      1.00      1.00         6\n",
            "          77       0.00      0.00      0.00         1\n",
            "          84       0.00      0.00      0.00         1\n",
            "          91       1.00      1.00      1.00         5\n",
            "          94       0.00      0.00      0.00         1\n",
            "          96       1.00      1.00      1.00        11\n",
            "          98       0.00      0.00      0.00         1\n",
            "         102       0.00      0.00      0.00         1\n",
            "         106       0.00      0.00      0.00         1\n",
            "         110       0.00      0.00      0.00         1\n",
            "         112       0.00      0.00      0.00         1\n",
            "\n",
            "    accuracy                           0.93       400\n",
            "   macro avg       0.34      0.34      0.34       400\n",
            "weighted avg       0.87      0.93      0.90       400\n",
            "\n"
          ]
        },
        {
          "output_type": "stream",
          "name": "stderr",
          "text": [
            "/usr/local/lib/python3.12/dist-packages/sklearn/metrics/_classification.py:1565: UndefinedMetricWarning: Precision is ill-defined and being set to 0.0 in labels with no predicted samples. Use `zero_division` parameter to control this behavior.\n",
            "  _warn_prf(average, modifier, f\"{metric.capitalize()} is\", len(result))\n",
            "/usr/local/lib/python3.12/dist-packages/sklearn/metrics/_classification.py:1565: UndefinedMetricWarning: Precision is ill-defined and being set to 0.0 in labels with no predicted samples. Use `zero_division` parameter to control this behavior.\n",
            "  _warn_prf(average, modifier, f\"{metric.capitalize()} is\", len(result))\n",
            "/usr/local/lib/python3.12/dist-packages/sklearn/metrics/_classification.py:1565: UndefinedMetricWarning: Precision is ill-defined and being set to 0.0 in labels with no predicted samples. Use `zero_division` parameter to control this behavior.\n",
            "  _warn_prf(average, modifier, f\"{metric.capitalize()} is\", len(result))\n"
          ]
        }
      ],
      "execution_count": 89
    },
    {
      "cell_type": "code",
      "source": [
        "from sklearn.ensemble import RandomForestClassifier\n",
        "model1 = RandomForestClassifier()\n",
        "\n",
        "model1.fit(X_train, y_train)\n",
        "\n",
        "y_pred = model1.predict(X_test)\n",
        "print(classification_report(y_test, y_pred))"
      ],
      "metadata": {
        "trusted": true,
        "colab": {
          "base_uri": "https://localhost:8080/"
        },
        "id": "UgUsvrCjjLjo",
        "outputId": "59eac03d-c391-43f2-d4bd-876f77a7478a"
      },
      "outputs": [
        {
          "output_type": "stream",
          "name": "stdout",
          "text": [
            "              precision    recall  f1-score   support\n",
            "\n",
            "           3       1.00      1.00      1.00        24\n",
            "           4       1.00      1.00      1.00        20\n",
            "           8       0.00      0.00      0.00         0\n",
            "          11       0.00      0.00      0.00         1\n",
            "          15       0.00      0.00      0.00         1\n",
            "          16       0.00      0.00      0.00         1\n",
            "          17       0.00      0.00      0.00         1\n",
            "          21       0.00      0.00      0.00         1\n",
            "          22       0.00      0.00      0.00         1\n",
            "          23       1.00      1.00      1.00         2\n",
            "          24       1.00      1.00      1.00         4\n",
            "          26       1.00      1.00      1.00        23\n",
            "          27       1.00      1.00      1.00         4\n",
            "          28       1.00      0.98      0.99        63\n",
            "          29       0.00      0.00      0.00         0\n",
            "          31       1.00      1.00      1.00         1\n",
            "          32       0.00      0.00      0.00         1\n",
            "          33       0.00      0.00      0.00         1\n",
            "          34       0.00      0.00      0.00         1\n",
            "          38       1.00      1.00      1.00        20\n",
            "          40       0.99      1.00      1.00       187\n",
            "          43       0.00      0.00      0.00         1\n",
            "          48       1.00      1.00      1.00         2\n",
            "          49       1.00      1.00      1.00         1\n",
            "          50       1.00      1.00      1.00         2\n",
            "          52       0.00      0.00      0.00         1\n",
            "          54       0.00      0.00      0.00         1\n",
            "          57       0.00      0.00      0.00         1\n",
            "          60       1.00      1.00      1.00         1\n",
            "          64       0.00      0.00      0.00         0\n",
            "          66       0.00      0.00      0.00         1\n",
            "          68       0.00      0.00      0.00         1\n",
            "          72       0.00      0.00      0.00         1\n",
            "          76       1.00      1.00      1.00         6\n",
            "          77       0.00      0.00      0.00         1\n",
            "          78       0.00      0.00      0.00         0\n",
            "          80       0.00      0.00      0.00         0\n",
            "          84       0.00      0.00      0.00         1\n",
            "          91       1.00      1.00      1.00         5\n",
            "          94       0.00      0.00      0.00         1\n",
            "          96       1.00      1.00      1.00        11\n",
            "          98       0.00      0.00      0.00         1\n",
            "         102       0.00      0.00      0.00         1\n",
            "         106       1.00      1.00      1.00         1\n",
            "         110       0.00      0.00      0.00         1\n",
            "         112       0.00      0.00      0.00         1\n",
            "\n",
            "    accuracy                           0.94       400\n",
            "   macro avg       0.39      0.39      0.39       400\n",
            "weighted avg       0.94      0.94      0.94       400\n",
            "\n"
          ]
        },
        {
          "output_type": "stream",
          "name": "stderr",
          "text": [
            "/usr/local/lib/python3.12/dist-packages/sklearn/metrics/_classification.py:1565: UndefinedMetricWarning: Precision is ill-defined and being set to 0.0 in labels with no predicted samples. Use `zero_division` parameter to control this behavior.\n",
            "  _warn_prf(average, modifier, f\"{metric.capitalize()} is\", len(result))\n",
            "/usr/local/lib/python3.12/dist-packages/sklearn/metrics/_classification.py:1565: UndefinedMetricWarning: Recall is ill-defined and being set to 0.0 in labels with no true samples. Use `zero_division` parameter to control this behavior.\n",
            "  _warn_prf(average, modifier, f\"{metric.capitalize()} is\", len(result))\n",
            "/usr/local/lib/python3.12/dist-packages/sklearn/metrics/_classification.py:1565: UndefinedMetricWarning: Precision is ill-defined and being set to 0.0 in labels with no predicted samples. Use `zero_division` parameter to control this behavior.\n",
            "  _warn_prf(average, modifier, f\"{metric.capitalize()} is\", len(result))\n",
            "/usr/local/lib/python3.12/dist-packages/sklearn/metrics/_classification.py:1565: UndefinedMetricWarning: Recall is ill-defined and being set to 0.0 in labels with no true samples. Use `zero_division` parameter to control this behavior.\n",
            "  _warn_prf(average, modifier, f\"{metric.capitalize()} is\", len(result))\n",
            "/usr/local/lib/python3.12/dist-packages/sklearn/metrics/_classification.py:1565: UndefinedMetricWarning: Precision is ill-defined and being set to 0.0 in labels with no predicted samples. Use `zero_division` parameter to control this behavior.\n",
            "  _warn_prf(average, modifier, f\"{metric.capitalize()} is\", len(result))\n",
            "/usr/local/lib/python3.12/dist-packages/sklearn/metrics/_classification.py:1565: UndefinedMetricWarning: Recall is ill-defined and being set to 0.0 in labels with no true samples. Use `zero_division` parameter to control this behavior.\n",
            "  _warn_prf(average, modifier, f\"{metric.capitalize()} is\", len(result))\n"
          ]
        }
      ],
      "execution_count": 90
    },
    {
      "cell_type": "code",
      "source": [
        "# Assuming 'model' is your trained model (e.g., LogisticRegression or RandomForestClassifier)\n",
        "# Assuming 'vectorizer' is your trained TfidfVectorizer\n",
        "# Assuming 'le' is your trained LabelEncoder\n",
        "# Assuming 'clean_text' is your text cleaning function\n",
        "\n",
        "def predict_event_id(text, model, vectorizer, label_encoder, clean_text_func):\n",
        "    # Clean the input text\n",
        "    cleaned_text = clean_text_func(text)\n",
        "\n",
        "    # Vectorize the cleaned text\n",
        "    # Use transform, not fit_transform, as the vectorizer is already trained\n",
        "    text_vec = vectorizer.transform([cleaned_text])\n",
        "\n",
        "    # Predict the encoded event ID\n",
        "    predicted_encoded_id = model.predict(text_vec)\n",
        "\n",
        "    # Inverse transform the encoded ID to the original EventId\n",
        "    predicted_event_id = label_encoder.inverse_transform(predicted_encoded_id)\n",
        "\n",
        "    return predicted_event_id[0]\n",
        "\n",
        "# Example usage:\n",
        "new_log_text = \"ACPI: Subsystem revision <*>\"\n",
        "predicted_id = predict_event_id(new_log_text, model1, vectorizer, le, clean_text) # Using model1 (RandomForestClassifier)\n",
        "\n",
        "print(f\"The predicted EventId for the log '{new_log_text}' is: {predicted_id}\")"
      ],
      "metadata": {
        "id": "8mtXVLh7o_FD"
      },
      "execution_count": null,
      "outputs": []
    },
    {
      "cell_type": "code",
      "source": [],
      "metadata": {
        "id": "y12r98MIp97U"
      },
      "execution_count": null,
      "outputs": []
    }
  ]
}